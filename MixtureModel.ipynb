{
 "cells": [
  {
   "cell_type": "code",
   "execution_count": 2,
   "metadata": {
    "collapsed": true
   },
   "outputs": [],
   "source": [
    "import matplotlib.pyplot as plt\n",
    "import numpy as np\n",
    "import math\n",
    "\n",
    "%matplotlib inline\n",
    "import matplotlib.gridspec as gridspec\n",
    "plt.rcParams['font.family']='serif'"
   ]
  },
  {
   "cell_type": "code",
   "execution_count": 15,
   "metadata": {
    "collapsed": false
   },
   "outputs": [],
   "source": [
    "###===========\n",
    "# This section imports the necessary columns from the csv file into numpy arrays\n",
    "###===========\n",
    "\n",
    "csv = np.genfromtxt ('RadioDetectionTable_Limits.csv', delimiter=\",\")\n",
    "LV = csv[1:,7]\n",
    "LV_err = LV/10\n",
    "LV=np.log10(LV) #convert to natural log basis\n",
    "LV_err=np.log10(LV_err) #figure out why this isn't working\n",
    "#y_err = csv[1:,8]\n",
    "delta = csv[1:,10]\n",
    "delta = delta.astype(int) #delta will index confirmed\n",
    "delta = delta == 0\n",
    "notdelta = np.logical_not(delta) #notdelta will index uplims\n",
    "\n",
    "#Possible parameter-axes\n",
    "spectype = csv[1:,2] \n",
    "\n",
    "t_eff = csv[1:,13]\n",
    "tempsig = csv[1:,14]\n",
    "\n",
    "vsini = csv[1:,3]\n",
    "vsinisig = csv[1:,16]\n",
    "\n",
    "#Dividing uplims by 3sigma and creating error bars for y-axis. \n",
    "#Separating out confirmed detections, and setting errors on uplims to average of confirmed error\n",
    "LVconf = LV[delta]\n",
    "LVconf_err = LVconf/10\n",
    "# LVconf_err = LV_err[delta]\n",
    "errav=np.mean(LVconf_err)\n",
    "\n",
    "LVuplim = LV[notdelta]\n",
    "LVuplim = LVuplim/3\n",
    "LVuplim_err = np.full((1, (len(LVuplim))), errav)"
   ]
  },
  {
   "cell_type": "code",
   "execution_count": 30,
   "metadata": {
    "collapsed": false
   },
   "outputs": [
    {
     "data": {
      "text/plain": [
       "<matplotlib.text.Text at 0x10c44a510>"
      ]
     },
     "execution_count": 30,
     "metadata": {},
     "output_type": "execute_result"
    },
    {
     "data": {
      "image/png": "[encoded data removed]",
      "text/plain": [
       "<matplotlib.figure.Figure at 0x10c2e05d0>"
      ]
     },
     "metadata": {},
     "output_type": "display_data"
    }
   ],
   "source": [
    "###===========\n",
    "# This section plots histogram to extract Q prior\n",
    "###===========\n",
    "\n",
    "plt.figure(figsize=(8,6))\n",
    "plt.hist(LVconf, color='red', edgecolor='none')\n",
    "plt.hist(LVuplim, color='grey', edgecolor='none')\n",
    "plt.xlabel(\"ln(Radio Flux)\", fontsize='12')\n",
    "plt.ylabel(\"Frequency\", fontsize='12')"
   ]
  },
  {
   "cell_type": "code",
   "execution_count": null,
   "metadata": {
    "collapsed": true
   },
   "outputs": [],
   "source": [
    "###===========\n",
    "# This section plots likelihood function for simplest model\n",
    "###===========\n",
    "\n",
    "#Starting with Ploud\n",
    "pi = math.pi\n",
    "#var_pquiet will be the variance of the pquiet gaussian\n",
    "#LVtotal will be an array of all the measurements\n",
    "#!!!!!!!! I'M NOT SURE WHAT GOES FOR Y!!!!!!!\n",
    "\n",
    "Ploud = (1/np.sqrt(2*pi*var_pquiet))*np.exp(np.negative(1/2)*((y-LVtotal)/var_pquiet))\n",
    "\n",
    "#Defining the Likelihood function\n",
    "Q=10\n",
    "var_tot = var_ploud*var_pquiet\n",
    "m = (y/var_ploud + LVtotal/var_pquiet)*(1/var_ploud+1/var_pquiet)**np.negative(1)\n",
    "\n",
    "#Need to figure out stepfunction for 1-Ploud\n",
    "Likelihood = (1-Ploud)*np.piecewise(y, [y<Q, y>=Q], [1,0])+(Ploud*((1/np.sqrt(2*pi*var_tot))*np.exp(np.negative(1/2)*((y-m)/var_tot))))\n"
   ]
  }
 ],
 "metadata": {
  "kernelspec": {
   "display_name": "Python 2",
   "language": "python",
   "name": "python2"
  },
  "language_info": {
   "codemirror_mode": {
    "name": "ipython",
    "version": 2
   },
   "file_extension": ".py",
   "mimetype": "text/x-python",
   "name": "python",
   "nbconvert_exporter": "python",
   "pygments_lexer": "ipython2",
   "version": "2.7.11"
  }
 },
 "nbformat": 4,
 "nbformat_minor": 0
}
