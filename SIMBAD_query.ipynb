{
 "cells": [
  {
   "cell_type": "code",
   "execution_count": 1,
   "metadata": {
    "collapsed": false
   },
   "outputs": [],
   "source": [
    "from astroquery.simbad import Simbad\n",
    "import numpy as np\n",
    "from urllib import urlopen\n",
    "Simbad.add_votable_fields('rot') #('ROT_error')"
   ]
  },
  {
   "cell_type": "code",
   "execution_count": null,
   "metadata": {
    "collapsed": false
   },
   "outputs": [],
   "source": [
    "Simbad.query_object?"
   ]
  },
  {
   "cell_type": "code",
   "execution_count": 2,
   "metadata": {
    "collapsed": false
   },
   "outputs": [],
   "source": [
    "csv = np.genfromtxt ('RadioDetectionTable_Limits.csv', delimiter=\",\",dtype=\"|S16\")\n",
    "objects = csv[1:,0] \n",
    "\n",
    "### Using code from https://github.com/bmorris3/querycds/blob/master/querycds.py\n",
    "\n",
    "\n",
    "# def checksimbadforentries(identifier2MASS):\n",
    "#     '''\n",
    "#     Enter 2MASS identifier string (HHMMSSss+/-DDMMSSs), return the URL if there\n",
    "#     is a SIMBAD entry for the object, return None otherwise. \n",
    "#     '''\n",
    "#     for i in identifier2MASS :\n",
    "#         entry_URL = []\n",
    "#         HTMLidentifier = '2MASS+J'+i.replace('+', '%2B').replace('-','%2D')\n",
    "#         URL = 'http://simbad.harvard.edu/simbad/sim-basic?Ident=%s&submit=SIMBAD+search' % (HTMLidentifier)\n",
    "#         rawhtml = urlopen(URL).read()\n",
    "#         #print rawhtml\n",
    "#         insimbad = 'Identifier not found in the database' not in rawhtml\n",
    "#     if insimbad: \n",
    "#         return URL\n",
    "#     else: \n",
    "#         return None        \n",
    "\n"
   ]
  },
  {
   "cell_type": "code",
   "execution_count": 3,
   "metadata": {
    "collapsed": false
   },
   "outputs": [
    {
     "name": "stdout",
     "output_type": "stream",
     "text": [
      "MAIN_ID       RA          DEC      RA_PREC ... ROT_mes ROT_qual ROT_bibcode\n",
      "           \"h:m:s\"      \"d:m:s\"            ...                             \n",
      "-------- ------------ ------------ ------- ... ------- -------- -----------\n",
      "GJ  3622 10 48 12.583 -11 20 08.23       7 ...       0                     \n",
      "None"
     ]
    },
    {
     "name": "stderr",
     "output_type": "stream",
     "text": [
      "/Users/ellie/anaconda/lib/python2.7/site-packages/astroquery/simbad/core.py:866: UserWarning: Warning: The script line number 3 raised an error (recorded in the `errors` attribute of the result table): '2MASS J0435161-160657': this identifier has an incorrect format for catalog: \t2MASS : 2 Micron Sky Survey, Point Sources\n",
      "  (error.line, error.msg))\n",
      "/Users/ellie/anaconda/lib/python2.7/site-packages/astroquery/simbad/core.py:866: UserWarning: Warning: The script line number 3 raised an error (recorded in the `errors` attribute of the result table): '2MASS J0440232-053008': this identifier has an incorrect format for catalog: \t2MASS : 2 Micron Sky Survey, Point Sources\n",
      "  (error.line, error.msg))\n"
     ]
    },
    {
     "name": "stdout",
     "output_type": "stream",
     "text": [
      "\n",
      "None\n",
      "None"
     ]
    },
    {
     "name": "stderr",
     "output_type": "stream",
     "text": [
      "/Users/ellie/anaconda/lib/python2.7/site-packages/astroquery/simbad/core.py:866: UserWarning: Warning: The script line number 3 raised an error (recorded in the `errors` attribute of the result table): '2MASS J0752239+161215': this identifier has an incorrect format for catalog: \t2MASS : 2 Micron Sky Survey, Point Sources\n",
      "  (error.line, error.msg))\n",
      "/Users/ellie/anaconda/lib/python2.7/site-packages/astroquery/simbad/core.py:866: UserWarning: Warning: The script line number 3 raised an error (recorded in the `errors` attribute of the result table): '2MASS J1456383-280947': this identifier has an incorrect format for catalog: \t2MASS : 2 Micron Sky Survey, Point Sources\n",
      "  (error.line, error.msg))\n"
     ]
    },
    {
     "name": "stdout",
     "output_type": "stream",
     "text": [
      "\n",
      "None\n",
      "None"
     ]
    },
    {
     "name": "stderr",
     "output_type": "stream",
     "text": [
      "/Users/ellie/anaconda/lib/python2.7/site-packages/astroquery/simbad/core.py:866: UserWarning: Warning: The script line number 3 raised an error (recorded in the `errors` attribute of the result table): '2MASS J1634216+571008': this identifier has an incorrect format for catalog: \t2MASS : 2 Micron Sky Survey, Point Sources\n",
      "  (error.line, error.msg))\n",
      "/Users/ellie/anaconda/lib/python2.7/site-packages/astroquery/simbad/core.py:866: UserWarning: Warning: The script line number 3 raised an error (recorded in the `errors` attribute of the result table): '2MASS J1655352-082340': this identifier has an incorrect format for catalog: \t2MASS : 2 Micron Sky Survey, Point Sources\n",
      "  (error.line, error.msg))\n"
     ]
    },
    {
     "name": "stdout",
     "output_type": "stream",
     "text": [
      "\n",
      "None\n",
      "None"
     ]
    },
    {
     "name": "stderr",
     "output_type": "stream",
     "text": [
      "/Users/ellie/anaconda/lib/python2.7/site-packages/astroquery/simbad/core.py:866: UserWarning: Warning: The script line number 3 raised an error (recorded in the `errors` attribute of the result table): '2MASS J0741068+173845': this identifier has an incorrect format for catalog: \t2MASS : 2 Micron Sky Survey, Point Sources\n",
      "  (error.line, error.msg))\n",
      "/Users/ellie/anaconda/lib/python2.7/site-packages/astroquery/simbad/core.py:866: UserWarning: Warning: The script line number 3 raised an error (recorded in the `errors` attribute of the result table): '2MASS J0818580+233352': this identifier has an incorrect format for catalog: \t2MASS : 2 Micron Sky Survey, Point Sources\n",
      "  (error.line, error.msg))\n"
     ]
    },
    {
     "name": "stdout",
     "output_type": "stream",
     "text": [
      "\n",
      "None\n",
      "None"
     ]
    },
    {
     "name": "stderr",
     "output_type": "stream",
     "text": [
      "/Users/ellie/anaconda/lib/python2.7/site-packages/astroquery/simbad/core.py:866: UserWarning: Warning: The script line number 3 raised an error (recorded in the `errors` attribute of the result table): '2MASS J0952219-192431': this identifier has an incorrect format for catalog: \t2MASS : 2 Micron Sky Survey, Point Sources\n",
      "  (error.line, error.msg))\n",
      "/Users/ellie/anaconda/lib/python2.7/site-packages/astroquery/simbad/core.py:866: UserWarning: Warning: The script line number 3 raised an error (recorded in the `errors` attribute of the result table): '2MASS J1141440-223215': this identifier has an incorrect format for catalog: \t2MASS : 2 Micron Sky Survey, Point Sources\n",
      "  (error.line, error.msg))\n"
     ]
    },
    {
     "name": "stdout",
     "output_type": "stream",
     "text": [
      "\n",
      "None\n",
      "None"
     ]
    },
    {
     "name": "stderr",
     "output_type": "stream",
     "text": [
      "/Users/ellie/anaconda/lib/python2.7/site-packages/astroquery/simbad/core.py:866: UserWarning: Warning: The script line number 3 raised an error (recorded in the `errors` attribute of the result table): '2MASS J1314203+132001A': this identifier has an incorrect format for catalog: \t2MASS : 2 Micron Sky Survey, Point Sources\n",
      "  (error.line, error.msg))\n",
      "/Users/ellie/anaconda/lib/python2.7/site-packages/astroquery/simbad/core.py:866: UserWarning: Warning: The script line number 3 raised an error (recorded in the `errors` attribute of the result table): '2MASS J1354087+084608': this identifier has an incorrect format for catalog: \t2MASS : 2 Micron Sky Survey, Point Sources\n",
      "  (error.line, error.msg))\n"
     ]
    },
    {
     "name": "stdout",
     "output_type": "stream",
     "text": [
      "\n",
      "None\n",
      " MAIN_ID        RA          DEC      ... ROT_mes ROT_qual     ROT_bibcode    \n",
      "             \"h:m:s\"      \"d:m:s\"    ...                                     \n",
      "---------- ------------ ------------ ... ------- -------- -------------------\n",
      "LP  220-13 13 56 41.485 +43 42 58.77 ...       0          2013AJ....146..156D\n",
      "None"
     ]
    },
    {
     "name": "stderr",
     "output_type": "stream",
     "text": [
      "/Users/ellie/anaconda/lib/python2.7/site-packages/astroquery/simbad/core.py:866: UserWarning: Warning: The script line number 3 raised an error (recorded in the `errors` attribute of the result table): '2MASS J1534570-141848': this identifier has an incorrect format for catalog: \t2MASS : 2 Micron Sky Survey, Point Sources\n",
      "  (error.line, error.msg))\n",
      "/Users/ellie/anaconda/lib/python2.7/site-packages/astroquery/simbad/core.py:866: UserWarning: Warning: The script line number 3 raised an error (recorded in the `errors` attribute of the result table): '2MASS J2337383-125027': this identifier has an incorrect format for catalog: \t2MASS : 2 Micron Sky Survey, Point Sources\n",
      "  (error.line, error.msg))\n"
     ]
    },
    {
     "name": "stdout",
     "output_type": "stream",
     "text": [
      "\n",
      "None\n",
      "  MAIN_ID        RA          DEC      ... ROT_mes ROT_qual     ROT_bibcode    \n",
      "              \"h:m:s\"      \"d:m:s\"    ...                                     \n",
      "----------- ------------ ------------ ... ------- -------- -------------------\n",
      "LP   44-162 17 57 15.397 +70 42 01.20 ...       0        D 2012AJ....144...99D\n",
      "        MAIN_ID              RA          DEC      ... ROT_qual ROT_bibcode\n",
      "                          \"h:m:s\"      \"d:m:s\"    ...                     \n",
      "----------------------- ------------ ------------ ... -------- -----------\n",
      "2MASS J11554286-2224586 11 55 42.868 -22 24 58.60 ...                     \n",
      "        MAIN_ID              RA         DEC     ... ROT_qual     ROT_bibcode    \n",
      "                          \"h:m:s\"     \"d:m:s\"   ...                             \n",
      "----------------------- ----------- ----------- ... -------- -------------------\n",
      "2MASS J05395200-0059019 05 39 52.00 -00 59 01.9 ...          2010ApJ...723..684B\n",
      "    MAIN_ID           RA         DEC     ... ROT_mes ROT_qual ROT_bibcode\n",
      "                   \"h:m:s\"     \"d:m:s\"   ...                             \n",
      "---------------- ----------- ----------- ... ------- -------- -----------\n",
      "APMPM J1251-2121 12 50 52.65 -21 21 13.7 ...       0                     \n",
      "None"
     ]
    },
    {
     "name": "stderr",
     "output_type": "stream",
     "text": [
      "/Users/ellie/anaconda/lib/python2.7/site-packages/astroquery/simbad/core.py:866: UserWarning: Warning: The script line number 3 raised an error (recorded in the `errors` attribute of the result table): '2MASS J0148386-302439': this identifier has an incorrect format for catalog: \t2MASS : 2 Micron Sky Survey, Point Sources\n",
      "  (error.line, error.msg))\n",
      "/Users/ellie/anaconda/lib/python2.7/site-packages/astroquery/simbad/core.py:866: UserWarning: Warning: The script line number 3 raised an error (recorded in the `errors` attribute of the result table): '2MASS J0331302-304238': this identifier has an incorrect format for catalog: \t2MASS : 2 Micron Sky Survey, Point Sources\n",
      "  (error.line, error.msg))\n"
     ]
    },
    {
     "name": "stdout",
     "output_type": "stream",
     "text": [
      "\n",
      "None\n",
      "None"
     ]
    },
    {
     "name": "stderr",
     "output_type": "stream",
     "text": [
      "/Users/ellie/anaconda/lib/python2.7/site-packages/astroquery/simbad/core.py:866: UserWarning: Warning: The script line number 3 raised an error (recorded in the `errors` attribute of the result table): '2MASS J0417374-080000': this identifier has an incorrect format for catalog: \t2MASS : 2 Micron Sky Survey, Point Sources\n",
      "  (error.line, error.msg))\n",
      "/Users/ellie/anaconda/lib/python2.7/site-packages/astroquery/simbad/core.py:866: UserWarning: Warning: The script line number 3 raised an error (recorded in the `errors` attribute of the result table): '2MASS J0429184-312356': this identifier has an incorrect format for catalog: \t2MASS : 2 Micron Sky Survey, Point Sources\n",
      "  (error.line, error.msg))\n"
     ]
    },
    {
     "name": "stdout",
     "output_type": "stream",
     "text": [
      "\n",
      "None\n",
      "None"
     ]
    },
    {
     "name": "stderr",
     "output_type": "stream",
     "text": [
      "/Users/ellie/anaconda/lib/python2.7/site-packages/astroquery/simbad/core.py:866: UserWarning: Warning: The script line number 3 raised an error (recorded in the `errors` attribute of the result table): '2MASS J1521010+505323': this identifier has an incorrect format for catalog: \t2MASS : 2 Micron Sky Survey, Point Sources\n",
      "  (error.line, error.msg))\n",
      "/Users/ellie/anaconda/lib/python2.7/site-packages/astroquery/simbad/core.py:866: UserWarning: Warning: The script line number 3 raised an error (recorded in the `errors` attribute of the result table): '2MASS J0351000-005244': this identifier has an incorrect format for catalog: \t2MASS : 2 Micron Sky Survey, Point Sources\n",
      "  (error.line, error.msg))\n"
     ]
    },
    {
     "name": "stdout",
     "output_type": "stream",
     "text": [
      "\n",
      "None\n",
      "None"
     ]
    },
    {
     "name": "stderr",
     "output_type": "stream",
     "text": [
      "/Users/ellie/anaconda/lib/python2.7/site-packages/astroquery/simbad/core.py:866: UserWarning: Warning: The script line number 3 raised an error (recorded in the `errors` attribute of the result table): '2MASS J1006319-165326': this identifier has an incorrect format for catalog: \t2MASS : 2 Micron Sky Survey, Point Sources\n",
      "  (error.line, error.msg))\n",
      "/Users/ellie/anaconda/lib/python2.7/site-packages/astroquery/simbad/core.py:866: UserWarning: Warning: The script line number 3 raised an error (recorded in the `errors` attribute of the result table): '2MASS J1246517+314811': this identifier has an incorrect format for catalog: \t2MASS : 2 Micron Sky Survey, Point Sources\n",
      "  (error.line, error.msg))\n"
     ]
    },
    {
     "name": "stdout",
     "output_type": "stream",
     "text": [
      "\n",
      "None\n",
      "None"
     ]
    },
    {
     "name": "stderr",
     "output_type": "stream",
     "text": [
      "/Users/ellie/anaconda/lib/python2.7/site-packages/astroquery/simbad/core.py:866: UserWarning: Warning: The script line number 3 raised an error (recorded in the `errors` attribute of the result table): '2MASS J1253124+403403': this identifier has an incorrect format for catalog: \t2MASS : 2 Micron Sky Survey, Point Sources\n",
      "  (error.line, error.msg))\n",
      "/Users/ellie/anaconda/lib/python2.7/site-packages/astroquery/simbad/core.py:866: UserWarning: Warning: The script line number 3 raised an error (recorded in the `errors` attribute of the result table): '2MASS J1332244-044112': this identifier has an incorrect format for catalog: \t2MASS : 2 Micron Sky Survey, Point Sources\n",
      "  (error.line, error.msg))\n"
     ]
    },
    {
     "name": "stdout",
     "output_type": "stream",
     "text": [
      "\n",
      "None\n",
      "None"
     ]
    },
    {
     "name": "stderr",
     "output_type": "stream",
     "text": [
      "/Users/ellie/anaconda/lib/python2.7/site-packages/astroquery/simbad/core.py:866: UserWarning: Warning: The script line number 3 raised an error (recorded in the `errors` attribute of the result table): '2MASS J1507277-200043': this identifier has an incorrect format for catalog: \t2MASS : 2 Micron Sky Survey, Point Sources\n",
      "  (error.line, error.msg))\n",
      "/Users/ellie/anaconda/lib/python2.7/site-packages/astroquery/simbad/core.py:866: UserWarning: Warning: The script line number 3 raised an error (recorded in the `errors` attribute of the result table): '2MASS J1546054+374946': this identifier has an incorrect format for catalog: \t2MASS : 2 Micron Sky Survey, Point Sources\n",
      "  (error.line, error.msg))\n"
     ]
    },
    {
     "name": "stdout",
     "output_type": "stream",
     "text": [
      "\n",
      "None\n",
      "None\n",
      "        MAIN_ID              RA          DEC      ... ROT_qual ROT_bibcode\n",
      "                          \"h:m:s\"      \"d:m:s\"    ...                     \n",
      "----------------------- ------------ ------------ ... -------- -----------\n",
      "2MASS J04351455-1414468 04 35 14.555 -14 14 46.86 ...                     \n",
      "        MAIN_ID              RA          DEC      ... ROT_qual ROT_bibcode\n",
      "                          \"h:m:s\"      \"d:m:s\"    ...                     \n",
      "----------------------- ------------ ------------ ... -------- -----------\n",
      "2MASS J02150802-3040011 02 15 08.021 -30 40 01.19 ...                     \n",
      "        MAIN_ID              RA          DEC      ... ROT_qual ROT_bibcode\n",
      "                          \"h:m:s\"      \"d:m:s\"    ...                     \n",
      "----------------------- ------------ ------------ ... -------- -----------\n",
      "2MASS J05392474+4038437 05 39 24.744 +40 38 43.75 ...                     "
     ]
    },
    {
     "name": "stderr",
     "output_type": "stream",
     "text": [
      "/Users/ellie/anaconda/lib/python2.7/site-packages/astroquery/simbad/core.py:866: UserWarning: Warning: The script line number 3 raised an error (recorded in the `errors` attribute of the result table): '2MASS J2331217-274950': this identifier has an incorrect format for catalog: \t2MASS : 2 Micron Sky Survey, Point Sources\n",
      "  (error.line, error.msg))\n",
      "/Users/ellie/anaconda/lib/python2.7/site-packages/astroquery/simbad/core.py:866: UserWarning: Warning: The script line number 3 raised an error (recorded in the `errors` attribute of the result table): '2MASS J0019262+461407': this identifier has an incorrect format for catalog: \t2MASS : 2 Micron Sky Survey, Point Sources\n",
      "  (error.line, error.msg))\n"
     ]
    },
    {
     "name": "stdout",
     "output_type": "stream",
     "text": [
      "\n",
      "None\n",
      "None"
     ]
    },
    {
     "name": "stderr",
     "output_type": "stream",
     "text": [
      "/Users/ellie/anaconda/lib/python2.7/site-packages/astroquery/simbad/core.py:866: UserWarning: Warning: The script line number 3 raised an error (recorded in the `errors` attribute of the result table): '2MASS J0350573+181806': this identifier has an incorrect format for catalog: \t2MASS : 2 Micron Sky Survey, Point Sources\n",
      "  (error.line, error.msg))\n",
      "/Users/ellie/anaconda/lib/python2.7/site-packages/astroquery/simbad/core.py:866: UserWarning: Warning: The script line number 3 raised an error (recorded in the `errors` attribute of the result table): '2MASS J0436103+225956': this identifier has an incorrect format for catalog: \t2MASS : 2 Micron Sky Survey, Point Sources\n",
      "  (error.line, error.msg))\n"
     ]
    },
    {
     "name": "stdout",
     "output_type": "stream",
     "text": [
      "\n",
      "None\n",
      "None"
     ]
    },
    {
     "name": "stderr",
     "output_type": "stream",
     "text": [
      "/Users/ellie/anaconda/lib/python2.7/site-packages/astroquery/simbad/core.py:866: UserWarning: Warning: The script line number 3 raised an error (recorded in the `errors` attribute of the result table): '2MASS J0517376-334902': this identifier has an incorrect format for catalog: \t2MASS : 2 Micron Sky Survey, Point Sources\n",
      "  (error.line, error.msg))\n",
      "/Users/ellie/anaconda/lib/python2.7/site-packages/astroquery/simbad/core.py:866: UserWarning: Warning: The script line number 3 raised an error (recorded in the `errors` attribute of the result table): '2MASS J1016347+275149': this identifier has an incorrect format for catalog: \t2MASS : 2 Micron Sky Survey, Point Sources\n",
      "  (error.line, error.msg))\n"
     ]
    },
    {
     "name": "stdout",
     "output_type": "stream",
     "text": [
      "\n",
      "None\n",
      "None"
     ]
    },
    {
     "name": "stderr",
     "output_type": "stream",
     "text": [
      "/Users/ellie/anaconda/lib/python2.7/site-packages/astroquery/simbad/core.py:866: UserWarning: Warning: The script line number 3 raised an error (recorded in the `errors` attribute of the result table): '2MASS J1048146-395606': this identifier has an incorrect format for catalog: \t2MASS : 2 Micron Sky Survey, Point Sources\n",
      "  (error.line, error.msg))\n",
      "/Users/ellie/anaconda/lib/python2.7/site-packages/astroquery/simbad/core.py:866: UserWarning: Warning: The script line number 3 raised an error (recorded in the `errors` attribute of the result table): '2MASS J1139511-315921': this identifier has an incorrect format for catalog: \t2MASS : 2 Micron Sky Survey, Point Sources\n",
      "  (error.line, error.msg))\n"
     ]
    },
    {
     "name": "stdout",
     "output_type": "stream",
     "text": [
      "\n",
      "None\n",
      "None\n",
      "None"
     ]
    },
    {
     "name": "stderr",
     "output_type": "stream",
     "text": [
      "/Users/ellie/anaconda/lib/python2.7/site-packages/astroquery/simbad/core.py:866: UserWarning: Warning: The script line number 3 raised an error (recorded in the `errors` attribute of the result table): '2MASS J1843221+404021': this identifier has an incorrect format for catalog: \t2MASS : 2 Micron Sky Survey, Point Sources\n",
      "  (error.line, error.msg))\n",
      "/Users/ellie/anaconda/lib/python2.7/site-packages/astroquery/simbad/core.py:866: UserWarning: Warning: The script line number 3 raised an error (recorded in the `errors` attribute of the result table): '2MASS J1916576+050902': this identifier has an incorrect format for catalog: \t2MASS : 2 Micron Sky Survey, Point Sources\n",
      "  (error.line, error.msg))\n"
     ]
    },
    {
     "name": "stdout",
     "output_type": "stream",
     "text": [
      "\n",
      "None\n",
      "None"
     ]
    },
    {
     "name": "stderr",
     "output_type": "stream",
     "text": [
      "/Users/ellie/anaconda/lib/python2.7/site-packages/astroquery/simbad/core.py:866: UserWarning: Warning: The script line number 3 raised an error (recorded in the `errors` attribute of the result table): '2MASS J2037071-113756': this identifier has an incorrect format for catalog: \t2MASS : 2 Micron Sky Survey, Point Sources\n",
      "  (error.line, error.msg))\n",
      "/Users/ellie/anaconda/lib/python2.7/site-packages/astroquery/simbad/core.py:866: UserWarning: Warning: The script line number 3 raised an error (recorded in the `errors` attribute of the result table): '2MASS J0027559+221932': this identifier has an incorrect format for catalog: \t2MASS : 2 Micron Sky Survey, Point Sources\n",
      "  (error.line, error.msg))\n"
     ]
    },
    {
     "name": "stdout",
     "output_type": "stream",
     "text": [
      "\n",
      "None\n",
      "None"
     ]
    },
    {
     "name": "stderr",
     "output_type": "stream",
     "text": [
      "/Users/ellie/anaconda/lib/python2.7/site-packages/astroquery/simbad/core.py:866: UserWarning: Warning: The script line number 3 raised an error (recorded in the `errors` attribute of the result table): '2MASS J0248410-165121': this identifier has an incorrect format for catalog: \t2MASS : 2 Micron Sky Survey, Point Sources\n",
      "  (error.line, error.msg))\n",
      "/Users/ellie/anaconda/lib/python2.7/site-packages/astroquery/simbad/core.py:866: UserWarning: Warning: The script line number 3 raised an error (recorded in the `errors` attribute of the result table): '2MASS J0320596+185423': this identifier has an incorrect format for catalog: \t2MASS : 2 Micron Sky Survey, Point Sources\n",
      "  (error.line, error.msg))\n"
     ]
    },
    {
     "name": "stdout",
     "output_type": "stream",
     "text": [
      "\n",
      "None\n",
      "None"
     ]
    },
    {
     "name": "stderr",
     "output_type": "stream",
     "text": [
      "/Users/ellie/anaconda/lib/python2.7/site-packages/astroquery/simbad/core.py:866: UserWarning: Warning: The script line number 3 raised an error (recorded in the `errors` attribute of the result table): '2MASS J0544115-243301': this identifier has an incorrect format for catalog: \t2MASS : 2 Micron Sky Survey, Point Sources\n",
      "  (error.line, error.msg))\n",
      "/Users/ellie/anaconda/lib/python2.7/site-packages/astroquery/simbad/core.py:866: UserWarning: Warning: The script line number 3 raised an error (recorded in the `errors` attribute of the result table): '2MASS J0629235-024851B': this identifier has an incorrect format for catalog: \t2MASS : 2 Micron Sky Survey, Point Sources\n",
      "  (error.line, error.msg))\n"
     ]
    },
    {
     "name": "stdout",
     "output_type": "stream",
     "text": [
      "\n",
      "None\n",
      "None\n",
      "None"
     ]
    },
    {
     "name": "stderr",
     "output_type": "stream",
     "text": [
      "/Users/ellie/anaconda/lib/python2.7/site-packages/astroquery/simbad/core.py:866: UserWarning: Warning: The script line number 3 raised an error (recorded in the `errors` attribute of the result table): '2MASS J1024099+181553': this identifier has an incorrect format for catalog: \t2MASS : 2 Micron Sky Survey, Point Sources\n",
      "  (error.line, error.msg))\n",
      "/Users/ellie/anaconda/lib/python2.7/site-packages/astroquery/simbad/core.py:866: UserWarning: Warning: The script line number 3 raised an error (recorded in the `errors` attribute of the result table): '2MASS J1309218-233035': this identifier has an incorrect format for catalog: \t2MASS : 2 Micron Sky Survey, Point Sources\n",
      "  (error.line, error.msg))\n"
     ]
    },
    {
     "name": "stdout",
     "output_type": "stream",
     "text": [
      "\n",
      "None\n",
      "None"
     ]
    },
    {
     "name": "stderr",
     "output_type": "stream",
     "text": [
      "/Users/ellie/anaconda/lib/python2.7/site-packages/astroquery/simbad/core.py:866: UserWarning: Warning: The script line number 3 raised an error (recorded in the `errors` attribute of the result table): '2MASS J1428041+135613': this identifier has an incorrect format for catalog: \t2MASS : 2 Micron Sky Survey, Point Sources\n",
      "  (error.line, error.msg))\n",
      "/Users/ellie/anaconda/lib/python2.7/site-packages/astroquery/simbad/core.py:866: UserWarning: Warning: The script line number 3 raised an error (recorded in the `errors` attribute of the result table): '2MASS J1440229+133923': this identifier has an incorrect format for catalog: \t2MASS : 2 Micron Sky Survey, Point Sources\n",
      "  (error.line, error.msg))\n"
     ]
    },
    {
     "name": "stdout",
     "output_type": "stream",
     "text": [
      "\n",
      "None\n",
      "None"
     ]
    },
    {
     "name": "stderr",
     "output_type": "stream",
     "text": [
      "/Users/ellie/anaconda/lib/python2.7/site-packages/astroquery/simbad/core.py:866: UserWarning: Warning: The script line number 3 raised an error (recorded in the `errors` attribute of the result table): '2MASS J1444171+300214': this identifier has an incorrect format for catalog: \t2MASS : 2 Micron Sky Survey, Point Sources\n",
      "  (error.line, error.msg))\n",
      "/Users/ellie/anaconda/lib/python2.7/site-packages/astroquery/simbad/core.py:866: UserWarning: Warning: The script line number 3 raised an error (recorded in the `errors` attribute of the result table): '2MASS J2206227-204706': this identifier has an incorrect format for catalog: \t2MASS : 2 Micron Sky Survey, Point Sources\n",
      "  (error.line, error.msg))\n"
     ]
    },
    {
     "name": "stdout",
     "output_type": "stream",
     "text": [
      "\n",
      "None\n",
      "None"
     ]
    },
    {
     "name": "stderr",
     "output_type": "stream",
     "text": [
      "/Users/ellie/anaconda/lib/python2.7/site-packages/astroquery/simbad/core.py:866: UserWarning: Warning: The script line number 3 raised an error (recorded in the `errors` attribute of the result table): '2MASS J2349489+122438': this identifier has an incorrect format for catalog: \t2MASS : 2 Micron Sky Survey, Point Sources\n",
      "  (error.line, error.msg))\n",
      "/Users/ellie/anaconda/lib/python2.7/site-packages/astroquery/simbad/core.py:866: UserWarning: Warning: The script line number 3 raised an error (recorded in the `errors` attribute of the result table): '2MASS J2351504-253736A': this identifier has an incorrect format for catalog: \t2MASS : 2 Micron Sky Survey, Point Sources\n",
      "  (error.line, error.msg))\n"
     ]
    },
    {
     "name": "stdout",
     "output_type": "stream",
     "text": [
      "\n",
      "None\n",
      "        MAIN_ID              RA          DEC      ... ROT_qual ROT_bibcode\n",
      "                          \"h:m:s\"      \"d:m:s\"    ...                     \n",
      "----------------------- ------------ ------------ ... -------- -----------\n",
      "2MASS J18261131+3014201 18 26 11.318 +30 14 20.11 ...                     \n",
      "None"
     ]
    },
    {
     "name": "stderr",
     "output_type": "stream",
     "text": [
      "/Users/ellie/anaconda/lib/python2.7/site-packages/astroquery/simbad/core.py:866: UserWarning: Warning: The script line number 3 raised an error (recorded in the `errors` attribute of the result table): '2MASS J0335020+234235': this identifier has an incorrect format for catalog: \t2MASS : 2 Micron Sky Survey, Point Sources\n",
      "  (error.line, error.msg))\n",
      "/Users/ellie/anaconda/lib/python2.7/site-packages/astroquery/simbad/core.py:866: UserWarning: Warning: The script line number 3 raised an error (recorded in the `errors` attribute of the result table): '2MASS J1454290+160605': this identifier has an incorrect format for catalog: \t2MASS : 2 Micron Sky Survey, Point Sources\n",
      "  (error.line, error.msg))\n"
     ]
    },
    {
     "name": "stdout",
     "output_type": "stream",
     "text": [
      "\n",
      "None\n",
      "None"
     ]
    },
    {
     "name": "stderr",
     "output_type": "stream",
     "text": [
      "/Users/ellie/anaconda/lib/python2.7/site-packages/astroquery/simbad/core.py:866: UserWarning: Warning: The script line number 3 raised an error (recorded in the `errors` attribute of the result table): '2MASS J1501081+225002': this identifier has an incorrect format for catalog: \t2MASS : 2 Micron Sky Survey, Point Sources\n",
      "  (error.line, error.msg))\n",
      "/Users/ellie/anaconda/lib/python2.7/site-packages/astroquery/simbad/core.py:866: UserWarning: Warning: The script line number 3 raised an error (recorded in the `errors` attribute of the result table): '2MASS J1835379+325954': this identifier has an incorrect format for catalog: \t2MASS : 2 Micron Sky Survey, Point Sources\n",
      "  (error.line, error.msg))\n"
     ]
    },
    {
     "name": "stdout",
     "output_type": "stream",
     "text": [
      "\n",
      "None\n",
      "None"
     ]
    },
    {
     "name": "stderr",
     "output_type": "stream",
     "text": [
      "/Users/ellie/anaconda/lib/python2.7/site-packages/astroquery/simbad/core.py:866: UserWarning: Warning: The script line number 3 raised an error (recorded in the `errors` attribute of the result table): '2MASS J0140026+270150': this identifier has an incorrect format for catalog: \t2MASS : 2 Micron Sky Survey, Point Sources\n",
      "  (error.line, error.msg))\n",
      "/Users/ellie/anaconda/lib/python2.7/site-packages/astroquery/simbad/core.py:866: UserWarning: Warning: The script line number 3 raised an error (recorded in the `errors` attribute of the result table): '2MASS J1121492-131308': this identifier has an incorrect format for catalog: \t2MASS : 2 Micron Sky Survey, Point Sources\n",
      "  (error.line, error.msg))\n"
     ]
    },
    {
     "name": "stdout",
     "output_type": "stream",
     "text": [
      "\n",
      "None\n",
      "None"
     ]
    },
    {
     "name": "stderr",
     "output_type": "stream",
     "text": [
      "/Users/ellie/anaconda/lib/python2.7/site-packages/astroquery/simbad/core.py:866: UserWarning: Warning: The script line number 3 raised an error (recorded in the `errors` attribute of the result table): '2MASS J1124048+380805': this identifier has an incorrect format for catalog: \t2MASS : 2 Micron Sky Survey, Point Sources\n",
      "  (error.line, error.msg))\n",
      "/Users/ellie/anaconda/lib/python2.7/site-packages/astroquery/simbad/core.py:866: UserWarning: Warning: The script line number 3 raised an error (recorded in the `errors` attribute of the result table): '2MASS J1403223+300754': this identifier has an incorrect format for catalog: \t2MASS : 2 Micron Sky Survey, Point Sources\n",
      "  (error.line, error.msg))\n"
     ]
    },
    {
     "name": "stdout",
     "output_type": "stream",
     "text": [
      "\n",
      "None\n",
      "None\n",
      " MAIN_ID        RA          DEC      RA_PREC ... ROT_mes ROT_qual ROT_bibcode\n",
      "             \"h:m:s\"      \"d:m:s\"            ...                             \n",
      "---------- ------------ ------------ ------- ... ------- -------- -----------\n",
      "LP  271-25 14 28 43.233 +33 10 39.14       7 ...       0                     "
     ]
    },
    {
     "name": "stderr",
     "output_type": "stream",
     "text": [
      "/Users/ellie/anaconda/lib/python2.7/site-packages/astroquery/simbad/core.py:866: UserWarning: Warning: The script line number 3 raised an error (recorded in the `errors` attribute of the result table): '2MASS J2353594-083331': this identifier has an incorrect format for catalog: \t2MASS : 2 Micron Sky Survey, Point Sources\n",
      "  (error.line, error.msg))\n",
      "/Users/ellie/anaconda/lib/python2.7/site-packages/astroquery/simbad/core.py:866: UserWarning: Warning: The script line number 3 raised an error (recorded in the `errors` attribute of the result table): '2MASS J0019457+521317': this identifier has an incorrect format for catalog: \t2MASS : 2 Micron Sky Survey, Point Sources\n",
      "  (error.line, error.msg))\n"
     ]
    },
    {
     "name": "stdout",
     "output_type": "stream",
     "text": [
      "\n",
      "None\n",
      "None"
     ]
    },
    {
     "name": "stderr",
     "output_type": "stream",
     "text": [
      "/Users/ellie/anaconda/lib/python2.7/site-packages/astroquery/simbad/core.py:866: UserWarning: Warning: The script line number 3 raised an error (recorded in the `errors` attribute of the result table): '2MASS J0109511-034326': this identifier has an incorrect format for catalog: \t2MASS : 2 Micron Sky Survey, Point Sources\n",
      "  (error.line, error.msg))\n",
      "/Users/ellie/anaconda/lib/python2.7/site-packages/astroquery/simbad/core.py:866: UserWarning: Warning: The script line number 3 raised an error (recorded in the `errors` attribute of the result table): '2MASS J0339352-352544': this identifier has an incorrect format for catalog: \t2MASS : 2 Micron Sky Survey, Point Sources\n",
      "  (error.line, error.msg))\n"
     ]
    },
    {
     "name": "stdout",
     "output_type": "stream",
     "text": [
      "\n",
      "None\n",
      "None"
     ]
    },
    {
     "name": "stderr",
     "output_type": "stream",
     "text": [
      "/Users/ellie/anaconda/lib/python2.7/site-packages/astroquery/simbad/core.py:866: UserWarning: Warning: The script line number 3 raised an error (recorded in the `errors` attribute of the result table): '2MASS J0434152+225031': this identifier has an incorrect format for catalog: \t2MASS : 2 Micron Sky Survey, Point Sources\n",
      "  (error.line, error.msg))\n",
      "/Users/ellie/anaconda/lib/python2.7/site-packages/astroquery/simbad/core.py:866: UserWarning: Warning: The script line number 3 raised an error (recorded in the `errors` attribute of the result table): '2MASS J0436389+225812': this identifier has an incorrect format for catalog: \t2MASS : 2 Micron Sky Survey, Point Sources\n",
      "  (error.line, error.msg))\n"
     ]
    },
    {
     "name": "stdout",
     "output_type": "stream",
     "text": [
      "\n",
      "None\n",
      "None"
     ]
    },
    {
     "name": "stderr",
     "output_type": "stream",
     "text": [
      "/Users/ellie/anaconda/lib/python2.7/site-packages/astroquery/simbad/core.py:866: UserWarning: Warning: The script line number 3 raised an error (recorded in the `errors` attribute of the result table): '2MASS J0537259-023432': this identifier has an incorrect format for catalog: \t2MASS : 2 Micron Sky Survey, Point Sources\n",
      "  (error.line, error.msg))\n",
      "/Users/ellie/anaconda/lib/python2.7/site-packages/astroquery/simbad/core.py:866: UserWarning: Warning: The script line number 3 raised an error (recorded in the `errors` attribute of the result table): '2MASS J0810586+142039': this identifier has an incorrect format for catalog: \t2MASS : 2 Micron Sky Survey, Point Sources\n",
      "  (error.line, error.msg))\n"
     ]
    },
    {
     "name": "stdout",
     "output_type": "stream",
     "text": [
      "\n",
      "None\n",
      "None"
     ]
    },
    {
     "name": "stderr",
     "output_type": "stream",
     "text": [
      "/Users/ellie/anaconda/lib/python2.7/site-packages/astroquery/simbad/core.py:866: UserWarning: Warning: The script line number 3 raised an error (recorded in the `errors` attribute of the result table): '2MASS J0853362-032932': this identifier has an incorrect format for catalog: \t2MASS : 2 Micron Sky Survey, Point Sources\n",
      "  (error.line, error.msg))\n",
      "/Users/ellie/anaconda/lib/python2.7/site-packages/astroquery/simbad/core.py:866: UserWarning: Warning: The script line number 3 raised an error (recorded in the `errors` attribute of the result table): '2MASS J1454280+160605': this identifier has an incorrect format for catalog: \t2MASS : 2 Micron Sky Survey, Point Sources\n",
      "  (error.line, error.msg))\n"
     ]
    },
    {
     "name": "stdout",
     "output_type": "stream",
     "text": [
      "\n",
      "None\n",
      "None"
     ]
    },
    {
     "name": "stderr",
     "output_type": "stream",
     "text": [
      "/Users/ellie/anaconda/lib/python2.7/site-packages/astroquery/simbad/core.py:866: UserWarning: Warning: The script line number 3 raised an error (recorded in the `errors` attribute of the result table): '2MASS J1627279+810507': this identifier has an incorrect format for catalog: \t2MASS : 2 Micron Sky Survey, Point Sources\n",
      "  (error.line, error.msg))\n",
      "/Users/ellie/anaconda/lib/python2.7/site-packages/astroquery/simbad/core.py:866: UserWarning: Warning: The script line number 3 raised an error (recorded in the `errors` attribute of the result table): '2MASS J1707183+643933': this identifier has an incorrect format for catalog: \t2MASS : 2 Micron Sky Survey, Point Sources\n",
      "  (error.line, error.msg))\n"
     ]
    },
    {
     "name": "stdout",
     "output_type": "stream",
     "text": [
      "\n",
      "None\n",
      "None"
     ]
    },
    {
     "name": "stderr",
     "output_type": "stream",
     "text": [
      "/Users/ellie/anaconda/lib/python2.7/site-packages/astroquery/simbad/core.py:866: UserWarning: Warning: The script line number 3 raised an error (recorded in the `errors` attribute of the result table): '2MASS J0443376+000205': this identifier has an incorrect format for catalog: \t2MASS : 2 Micron Sky Survey, Point Sources\n",
      "  (error.line, error.msg))\n",
      "/Users/ellie/anaconda/lib/python2.7/site-packages/astroquery/simbad/core.py:866: UserWarning: Warning: The script line number 3 raised an error (recorded in the `errors` attribute of the result table): '2MASS J1224522-123835': this identifier has an incorrect format for catalog: \t2MASS : 2 Micron Sky Survey, Point Sources\n",
      "  (error.line, error.msg))\n"
     ]
    },
    {
     "name": "stdout",
     "output_type": "stream",
     "text": [
      "\n",
      "None\n",
      "None"
     ]
    },
    {
     "name": "stderr",
     "output_type": "stream",
     "text": [
      "/Users/ellie/anaconda/lib/python2.7/site-packages/astroquery/simbad/core.py:866: UserWarning: Warning: The script line number 3 raised an error (recorded in the `errors` attribute of the result table): '2MASS J1411213-211950': this identifier has an incorrect format for catalog: \t2MASS : 2 Micron Sky Survey, Point Sources\n",
      "  (error.line, error.msg))\n",
      "/Users/ellie/anaconda/lib/python2.7/site-packages/astroquery/simbad/core.py:866: UserWarning: Warning: The script line number 3 raised an error (recorded in the `errors` attribute of the result table): '2MASS J1428432+331039': this identifier has an incorrect format for catalog: \t2MASS : 2 Micron Sky Survey, Point Sources\n",
      "  (error.line, error.msg))\n"
     ]
    },
    {
     "name": "stdout",
     "output_type": "stream",
     "text": [
      "\n",
      "None\n",
      "None"
     ]
    },
    {
     "name": "stderr",
     "output_type": "stream",
     "text": [
      "/Users/ellie/anaconda/lib/python2.7/site-packages/astroquery/simbad/core.py:866: UserWarning: Warning: The script line number 3 raised an error (recorded in the `errors` attribute of the result table): '2MASS J1707234-055824': this identifier has an incorrect format for catalog: \t2MASS : 2 Micron Sky Survey, Point Sources\n",
      "  (error.line, error.msg))\n",
      "/Users/ellie/anaconda/lib/python2.7/site-packages/astroquery/simbad/core.py:866: UserWarning: Warning: The script line number 3 raised an error (recorded in the `errors` attribute of the result table): '2MASS J2200020-303832AB': this identifier has an incorrect format for catalog: \t2MASS : 2 Micron Sky Survey, Point Sources\n",
      "  (error.line, error.msg))\n"
     ]
    },
    {
     "name": "stdout",
     "output_type": "stream",
     "text": [
      "\n",
      "None\n",
      "None"
     ]
    },
    {
     "name": "stderr",
     "output_type": "stream",
     "text": [
      "/Users/ellie/anaconda/lib/python2.7/site-packages/astroquery/simbad/core.py:866: UserWarning: Warning: The script line number 3 raised an error (recorded in the `errors` attribute of the result table): '2MASS J0024246-015819': this identifier has an incorrect format for catalog: \t2MASS : 2 Micron Sky Survey, Point Sources\n",
      "  (error.line, error.msg))\n",
      "/Users/ellie/anaconda/lib/python2.7/site-packages/astroquery/simbad/core.py:866: UserWarning: Warning: The script line number 3 raised an error (recorded in the `errors` attribute of the result table): '2MASS J0027420+050341': this identifier has an incorrect format for catalog: \t2MASS : 2 Micron Sky Survey, Point Sources\n",
      "  (error.line, error.msg))\n"
     ]
    },
    {
     "name": "stdout",
     "output_type": "stream",
     "text": [
      "\n",
      "None\n",
      "None"
     ]
    },
    {
     "name": "stderr",
     "output_type": "stream",
     "text": [
      "/Users/ellie/anaconda/lib/python2.7/site-packages/astroquery/simbad/core.py:866: UserWarning: Warning: The script line number 3 raised an error (recorded in the `errors` attribute of the result table): '2MASS J0109217+294925': this identifier has an incorrect format for catalog: \t2MASS : 2 Micron Sky Survey, Point Sources\n",
      "  (error.line, error.msg))\n",
      "/Users/ellie/anaconda/lib/python2.7/site-packages/astroquery/simbad/core.py:866: UserWarning: Warning: The script line number 3 raised an error (recorded in the `errors` attribute of the result table): '2MASS J0149089+295613': this identifier has an incorrect format for catalog: \t2MASS : 2 Micron Sky Survey, Point Sources\n",
      "  (error.line, error.msg))\n"
     ]
    },
    {
     "name": "stdout",
     "output_type": "stream",
     "text": [
      "\n",
      "None\n",
      "None"
     ]
    },
    {
     "name": "stderr",
     "output_type": "stream",
     "text": [
      "/Users/ellie/anaconda/lib/python2.7/site-packages/astroquery/simbad/core.py:866: UserWarning: Warning: The script line number 3 raised an error (recorded in the `errors` attribute of the result table): '2MASS J1438082+640836': this identifier has an incorrect format for catalog: \t2MASS : 2 Micron Sky Survey, Point Sources\n",
      "  (error.line, error.msg))\n",
      "/Users/ellie/anaconda/lib/python2.7/site-packages/astroquery/simbad/core.py:866: UserWarning: Warning: The script line number 3 raised an error (recorded in the `errors` attribute of the result table): '2MASS J2237325+392239': this identifier has an incorrect format for catalog: \t2MASS : 2 Micron Sky Survey, Point Sources\n",
      "  (error.line, error.msg))\n"
     ]
    },
    {
     "name": "stdout",
     "output_type": "stream",
     "text": [
      "\n",
      "None\n",
      "        MAIN_ID              RA      ... ROT_qual     ROT_bibcode    \n",
      "                          \"h:m:s\"    ...                             \n",
      "----------------------- ------------ ... -------- -------------------\n",
      "2MASS J17312974+2721233 17 31 29.750 ...          2010ApJ...723..684B\n",
      "None"
     ]
    },
    {
     "name": "stderr",
     "output_type": "stream",
     "text": [
      "/Users/ellie/anaconda/lib/python2.7/site-packages/astroquery/simbad/core.py:866: UserWarning: Warning: The script line number 3 raised an error (recorded in the `errors` attribute of the result table): '2MASS J1421314+182740': this identifier has an incorrect format for catalog: \t2MASS : 2 Micron Sky Survey, Point Sources\n",
      "  (error.line, error.msg))\n",
      "/Users/ellie/anaconda/lib/python2.7/site-packages/astroquery/simbad/core.py:866: UserWarning: Warning: The script line number 3 raised an error (recorded in the `errors` attribute of the result table): '2MASS J0345431+254023': this identifier has an incorrect format for catalog: \t2MASS : 2 Micron Sky Survey, Point Sources\n",
      "  (error.line, error.msg))\n"
     ]
    },
    {
     "name": "stdout",
     "output_type": "stream",
     "text": [
      "\n",
      "None\n",
      "None"
     ]
    },
    {
     "name": "stderr",
     "output_type": "stream",
     "text": [
      "/Users/ellie/anaconda/lib/python2.7/site-packages/astroquery/simbad/core.py:866: UserWarning: Warning: The script line number 3 raised an error (recorded in the `errors` attribute of the result table): '2MASS J0314034+160305': this identifier has an incorrect format for catalog: \t2MASS : 2 Micron Sky Survey, Point Sources\n",
      "  (error.line, error.msg))\n",
      "/Users/ellie/anaconda/lib/python2.7/site-packages/astroquery/simbad/core.py:866: UserWarning: Warning: The script line number 3 raised an error (recorded in the `errors` attribute of the result table): '2MASS J1159385+005726': this identifier has an incorrect format for catalog: \t2MASS : 2 Micron Sky Survey, Point Sources\n",
      "  (error.line, error.msg))\n"
     ]
    },
    {
     "name": "stdout",
     "output_type": "stream",
     "text": [
      "\n",
      "None\n",
      "None"
     ]
    },
    {
     "name": "stderr",
     "output_type": "stream",
     "text": [
      "/Users/ellie/anaconda/lib/python2.7/site-packages/astroquery/simbad/core.py:866: UserWarning: Warning: The script line number 3 raised an error (recorded in the `errors` attribute of the result table): '2MASS J1221277+025719': this identifier has an incorrect format for catalog: \t2MASS : 2 Micron Sky Survey, Point Sources\n",
      "  (error.line, error.msg))\n",
      "/Users/ellie/anaconda/lib/python2.7/site-packages/astroquery/simbad/core.py:866: UserWarning: Warning: The script line number 3 raised an error (recorded in the `errors` attribute of the result table): '2MASS J1731297+272123': this identifier has an incorrect format for catalog: \t2MASS : 2 Micron Sky Survey, Point Sources\n",
      "  (error.line, error.msg))\n"
     ]
    },
    {
     "name": "stdout",
     "output_type": "stream",
     "text": [
      "\n",
      "None\n",
      "None"
     ]
    },
    {
     "name": "stderr",
     "output_type": "stream",
     "text": [
      "/Users/ellie/anaconda/lib/python2.7/site-packages/astroquery/simbad/core.py:866: UserWarning: Warning: The script line number 3 raised an error (recorded in the `errors` attribute of the result table): '2MASS J1854459+842947': this identifier has an incorrect format for catalog: \t2MASS : 2 Micron Sky Survey, Point Sources\n",
      "  (error.line, error.msg))\n",
      "/Users/ellie/anaconda/lib/python2.7/site-packages/astroquery/simbad/core.py:866: UserWarning: Warning: The script line number 3 raised an error (recorded in the `errors` attribute of the result table): '2MASS J0746425+200032': this identifier has an incorrect format for catalog: \t2MASS : 2 Micron Sky Survey, Point Sources\n",
      "  (error.line, error.msg))\n"
     ]
    },
    {
     "name": "stdout",
     "output_type": "stream",
     "text": [
      "\n",
      "None\n",
      "None"
     ]
    },
    {
     "name": "stderr",
     "output_type": "stream",
     "text": [
      "/Users/ellie/anaconda/lib/python2.7/site-packages/astroquery/simbad/core.py:866: UserWarning: Warning: The script line number 3 raised an error (recorded in the `errors` attribute of the result table): '2MASS J1412244+163311': this identifier has an incorrect format for catalog: \t2MASS : 2 Micron Sky Survey, Point Sources\n",
      "  (error.line, error.msg))\n",
      "/Users/ellie/anaconda/lib/python2.7/site-packages/astroquery/simbad/core.py:866: UserWarning: Warning: The script line number 3 raised an error (recorded in the `errors` attribute of the result table): '2MASS J1441371-094559': this identifier has an incorrect format for catalog: \t2MASS : 2 Micron Sky Survey, Point Sources\n",
      "  (error.line, error.msg))\n"
     ]
    },
    {
     "name": "stdout",
     "output_type": "stream",
     "text": [
      "\n",
      "None\n",
      "None"
     ]
    },
    {
     "name": "stderr",
     "output_type": "stream",
     "text": [
      "/Users/ellie/anaconda/lib/python2.7/site-packages/astroquery/simbad/core.py:866: UserWarning: Warning: The script line number 3 raised an error (recorded in the `errors` attribute of the result table): '2MASS J2351504-253736B': this identifier has an incorrect format for catalog: \t2MASS : 2 Micron Sky Survey, Point Sources\n",
      "  (error.line, error.msg))\n",
      "/Users/ellie/anaconda/lib/python2.7/site-packages/astroquery/simbad/core.py:866: UserWarning: Warning: The script line number 3 raised an error (recorded in the `errors` attribute of the result table): '2MASS J0602304+391059': this identifier has an incorrect format for catalog: \t2MASS : 2 Micron Sky Survey, Point Sources\n",
      "  (error.line, error.msg))\n"
     ]
    },
    {
     "name": "stdout",
     "output_type": "stream",
     "text": [
      "\n",
      "None\n",
      "None"
     ]
    },
    {
     "name": "stderr",
     "output_type": "stream",
     "text": [
      "/Users/ellie/anaconda/lib/python2.7/site-packages/astroquery/simbad/core.py:866: UserWarning: Warning: The script line number 3 raised an error (recorded in the `errors` attribute of the result table): '2MASS J1300425+191235': this identifier has an incorrect format for catalog: \t2MASS : 2 Micron Sky Survey, Point Sources\n",
      "  (error.line, error.msg))\n",
      "/Users/ellie/anaconda/lib/python2.7/site-packages/astroquery/simbad/core.py:866: UserWarning: Warning: The script line number 3 raised an error (recorded in the `errors` attribute of the result table): '2MASS J0235599-233120': this identifier has an incorrect format for catalog: \t2MASS : 2 Micron Sky Survey, Point Sources\n",
      "  (error.line, error.msg))\n"
     ]
    },
    {
     "name": "stdout",
     "output_type": "stream",
     "text": [
      "\n",
      "None\n",
      "None"
     ]
    },
    {
     "name": "stderr",
     "output_type": "stream",
     "text": [
      "/Users/ellie/anaconda/lib/python2.7/site-packages/astroquery/simbad/core.py:866: UserWarning: Warning: The script line number 3 raised an error (recorded in the `errors` attribute of the result table): '2MASS J1045240-014957': this identifier has an incorrect format for catalog: \t2MASS : 2 Micron Sky Survey, Point Sources\n",
      "  (error.line, error.msg))\n",
      "/Users/ellie/anaconda/lib/python2.7/site-packages/astroquery/simbad/core.py:866: UserWarning: Warning: The script line number 3 raised an error (recorded in the `errors` attribute of the result table): '2MASS J1048428+011158': this identifier has an incorrect format for catalog: \t2MASS : 2 Micron Sky Survey, Point Sources\n",
      "  (error.line, error.msg))\n"
     ]
    },
    {
     "name": "stdout",
     "output_type": "stream",
     "text": [
      "\n",
      "None\n",
      "None"
     ]
    },
    {
     "name": "stderr",
     "output_type": "stream",
     "text": [
      "/Users/ellie/anaconda/lib/python2.7/site-packages/astroquery/simbad/core.py:866: UserWarning: Warning: The script line number 3 raised an error (recorded in the `errors` attribute of the result table): '2MASS J1439283+192914': this identifier has an incorrect format for catalog: \t2MASS : 2 Micron Sky Survey, Point Sources\n",
      "  (error.line, error.msg))\n",
      "/Users/ellie/anaconda/lib/python2.7/site-packages/astroquery/simbad/core.py:866: UserWarning: Warning: The script line number 3 raised an error (recorded in the `errors` attribute of the result table): '2MASS J1555157-095605': this identifier has an incorrect format for catalog: \t2MASS : 2 Micron Sky Survey, Point Sources\n",
      "  (error.line, error.msg))\n"
     ]
    },
    {
     "name": "stdout",
     "output_type": "stream",
     "text": [
      "\n",
      "None\n",
      "None"
     ]
    },
    {
     "name": "stderr",
     "output_type": "stream",
     "text": [
      "/Users/ellie/anaconda/lib/python2.7/site-packages/astroquery/simbad/core.py:866: UserWarning: Warning: The script line number 3 raised an error (recorded in the `errors` attribute of the result table): '2MASS J0213288+444445': this identifier has an incorrect format for catalog: \t2MASS : 2 Micron Sky Survey, Point Sources\n",
      "  (error.line, error.msg))\n",
      "/Users/ellie/anaconda/lib/python2.7/site-packages/astroquery/simbad/core.py:866: UserWarning: Warning: The script line number 3 raised an error (recorded in the `errors` attribute of the result table): '2MASS J2057540-025230': this identifier has an incorrect format for catalog: \t2MASS : 2 Micron Sky Survey, Point Sources\n",
      "  (error.line, error.msg))\n"
     ]
    },
    {
     "name": "stdout",
     "output_type": "stream",
     "text": [
      "\n",
      "None\n",
      "None"
     ]
    },
    {
     "name": "stderr",
     "output_type": "stream",
     "text": [
      "/Users/ellie/anaconda/lib/python2.7/site-packages/astroquery/simbad/core.py:866: UserWarning: Warning: The script line number 3 raised an error (recorded in the `errors` attribute of the result table): '2MASS J1145571+231729': this identifier has an incorrect format for catalog: \t2MASS : 2 Micron Sky Survey, Point Sources\n",
      "  (error.line, error.msg))\n",
      "/Users/ellie/anaconda/lib/python2.7/site-packages/astroquery/simbad/core.py:866: UserWarning: Warning: The script line number 3 raised an error (recorded in the `errors` attribute of the result table): '2MASS J1334062+194035': this identifier has an incorrect format for catalog: \t2MASS : 2 Micron Sky Survey, Point Sources\n",
      "  (error.line, error.msg))\n"
     ]
    },
    {
     "name": "stdout",
     "output_type": "stream",
     "text": [
      "\n",
      "None\n",
      "None"
     ]
    },
    {
     "name": "stderr",
     "output_type": "stream",
     "text": [
      "/Users/ellie/anaconda/lib/python2.7/site-packages/astroquery/simbad/core.py:866: UserWarning: Warning: The script line number 3 raised an error (recorded in the `errors` attribute of the result table): '2MASS J1645221-131951': this identifier has an incorrect format for catalog: \t2MASS : 2 Micron Sky Survey, Point Sources\n",
      "  (error.line, error.msg))\n",
      "/Users/ellie/anaconda/lib/python2.7/site-packages/astroquery/simbad/core.py:866: UserWarning: Warning: The script line number 3 raised an error (recorded in the `errors` attribute of the result table): '2MASS J1807159+501531': this identifier has an incorrect format for catalog: \t2MASS : 2 Micron Sky Survey, Point Sources\n",
      "  (error.line, error.msg))\n"
     ]
    },
    {
     "name": "stdout",
     "output_type": "stream",
     "text": [
      "\n",
      "None\n",
      "        MAIN_ID              RA      ... ROT_qual     ROT_bibcode    \n",
      "                          \"h:m:s\"    ...                             \n",
      "----------------------- ------------ ... -------- -------------------\n",
      "2MASS J09211410-2104446 09 21 14.106 ...          2010ApJ...723..684B\n",
      "    MAIN_ID           RA         DEC     ... ROT_qual     ROT_bibcode    \n",
      "                   \"h:m:s\"     \"d:m:s\"   ...                             \n",
      "---------------- ----------- ----------- ... -------- -------------------\n",
      "SSSPM J0829-1309 08 28 34.19 -13 09 19.9 ...          2010ApJ...723..684B\n",
      "None"
     ]
    },
    {
     "name": "stderr",
     "output_type": "stream",
     "text": [
      "/Users/ellie/anaconda/lib/python2.7/site-packages/astroquery/simbad/core.py:866: UserWarning: Warning: The script line number 3 raised an error (recorded in the `errors` attribute of the result table): '2MASS J0109015-510049': this identifier has an incorrect format for catalog: \t2MASS : 2 Micron Sky Survey, Point Sources\n",
      "  (error.line, error.msg))\n",
      "/Users/ellie/anaconda/lib/python2.7/site-packages/astroquery/simbad/core.py:866: UserWarning: Warning: The script line number 3 raised an error (recorded in the `errors` attribute of the result table): '2MASS J0445538-304820': this identifier has an incorrect format for catalog: \t2MASS : 2 Micron Sky Survey, Point Sources\n",
      "  (error.line, error.msg))\n"
     ]
    },
    {
     "name": "stdout",
     "output_type": "stream",
     "text": [
      "\n",
      "None\n",
      "None"
     ]
    },
    {
     "name": "stderr",
     "output_type": "stream",
     "text": [
      "/Users/ellie/anaconda/lib/python2.7/site-packages/astroquery/simbad/core.py:866: UserWarning: Warning: The script line number 3 raised an error (recorded in the `errors` attribute of the result table): '2MASS J1305401-254110': this identifier has an incorrect format for catalog: \t2MASS : 2 Micron Sky Survey, Point Sources\n",
      "  (error.line, error.msg))\n",
      "/Users/ellie/anaconda/lib/python2.7/site-packages/astroquery/simbad/core.py:866: UserWarning: Warning: The script line number 3 raised an error (recorded in the `errors` attribute of the result table): '2MASS J0523382-140302': this identifier has an incorrect format for catalog: \t2MASS : 2 Micron Sky Survey, Point Sources\n",
      "  (error.line, error.msg))\n"
     ]
    },
    {
     "name": "stdout",
     "output_type": "stream",
     "text": [
      "\n",
      "None\n",
      "None"
     ]
    },
    {
     "name": "stderr",
     "output_type": "stream",
     "text": [
      "/Users/ellie/anaconda/lib/python2.7/site-packages/astroquery/simbad/core.py:866: UserWarning: Warning: The script line number 3 raised an error (recorded in the `errors` attribute of the result table): '2MASS J1029216+162652': this identifier has an incorrect format for catalog: \t2MASS : 2 Micron Sky Survey, Point Sources\n",
      "  (error.line, error.msg))\n",
      "/Users/ellie/anaconda/lib/python2.7/site-packages/astroquery/simbad/core.py:866: UserWarning: Warning: The script line number 3 raised an error (recorded in the `errors` attribute of the result table): '2MASS J1047310-181557': this identifier has an incorrect format for catalog: \t2MASS : 2 Micron Sky Survey, Point Sources\n",
      "  (error.line, error.msg))\n"
     ]
    },
    {
     "name": "stdout",
     "output_type": "stream",
     "text": [
      "\n",
      "None\n",
      "None"
     ]
    },
    {
     "name": "stderr",
     "output_type": "stream",
     "text": [
      "/Users/ellie/anaconda/lib/python2.7/site-packages/astroquery/simbad/core.py:866: UserWarning: Warning: The script line number 3 raised an error (recorded in the `errors` attribute of the result table): '2MASS J0251149-035245': this identifier has an incorrect format for catalog: \t2MASS : 2 Micron Sky Survey, Point Sources\n",
      "  (error.line, error.msg))\n",
      "/Users/ellie/anaconda/lib/python2.7/site-packages/astroquery/simbad/core.py:866: UserWarning: Warning: The script line number 3 raised an error (recorded in the `errors` attribute of the result table): '2MASS J1721039+334416': this identifier has an incorrect format for catalog: \t2MASS : 2 Micron Sky Survey, Point Sources\n",
      "  (error.line, error.msg))\n"
     ]
    },
    {
     "name": "stdout",
     "output_type": "stream",
     "text": [
      "\n",
      "None\n",
      "None"
     ]
    },
    {
     "name": "stderr",
     "output_type": "stream",
     "text": [
      "/Users/ellie/anaconda/lib/python2.7/site-packages/astroquery/simbad/core.py:866: UserWarning: Warning: The script line number 3 raised an error (recorded in the `errors` attribute of the result table): '2MASS J2104149-103736': this identifier has an incorrect format for catalog: \t2MASS : 2 Micron Sky Survey, Point Sources\n",
      "  (error.line, error.msg))\n",
      "/Users/ellie/anaconda/lib/python2.7/site-packages/astroquery/simbad/core.py:866: UserWarning: Warning: The script line number 3 raised an error (recorded in the `errors` attribute of the result table): '2MASS J0913032+184150': this identifier has an incorrect format for catalog: \t2MASS : 2 Micron Sky Survey, Point Sources\n",
      "  (error.line, error.msg))\n"
     ]
    },
    {
     "name": "stdout",
     "output_type": "stream",
     "text": [
      "\n",
      "None\n",
      "None"
     ]
    },
    {
     "name": "stderr",
     "output_type": "stream",
     "text": [
      "/Users/ellie/anaconda/lib/python2.7/site-packages/astroquery/simbad/core.py:866: UserWarning: Warning: The script line number 3 raised an error (recorded in the `errors` attribute of the result table): '2MASS J1203581+001550': this identifier has an incorrect format for catalog: \t2MASS : 2 Micron Sky Survey, Point Sources\n",
      "  (error.line, error.msg))\n",
      "/Users/ellie/anaconda/lib/python2.7/site-packages/astroquery/simbad/core.py:866: UserWarning: Warning: The script line number 3 raised an error (recorded in the `errors` attribute of the result table): '2MASS J1506544+132106': this identifier has an incorrect format for catalog: \t2MASS : 2 Micron Sky Survey, Point Sources\n",
      "  (error.line, error.msg))\n"
     ]
    },
    {
     "name": "stdout",
     "output_type": "stream",
     "text": [
      "\n",
      "None\n",
      "None\n",
      "None"
     ]
    },
    {
     "name": "stderr",
     "output_type": "stream",
     "text": [
      "/Users/ellie/anaconda/lib/python2.7/site-packages/astroquery/simbad/core.py:866: UserWarning: Warning: The script line number 3 raised an error (recorded in the `errors` attribute of the result table): '2MASS J1615441+355900': this identifier has an incorrect format for catalog: \t2MASS : 2 Micron Sky Survey, Point Sources\n",
      "  (error.line, error.msg))\n",
      "/Users/ellie/anaconda/lib/python2.7/site-packages/astroquery/simbad/core.py:866: UserWarning: Warning: The script line number 3 raised an error (recorded in the `errors` attribute of the result table): '2MASS J0700366+315726A': this identifier has an incorrect format for catalog: \t2MASS : 2 Micron Sky Survey, Point Sources\n",
      "  (error.line, error.msg))\n"
     ]
    },
    {
     "name": "stdout",
     "output_type": "stream",
     "text": [
      "\n",
      "None\n",
      "None"
     ]
    },
    {
     "name": "stderr",
     "output_type": "stream",
     "text": [
      "/Users/ellie/anaconda/lib/python2.7/site-packages/astroquery/simbad/core.py:866: UserWarning: Warning: The script line number 3 raised an error (recorded in the `errors` attribute of the result table): '2MASS J0036161+182110': this identifier has an incorrect format for catalog: \t2MASS : 2 Micron Sky Survey, Point Sources\n",
      "  (error.line, error.msg))\n",
      "/Users/ellie/anaconda/lib/python2.7/site-packages/astroquery/simbad/core.py:866: UserWarning: Warning: The script line number 3 raised an error (recorded in the `errors` attribute of the result table): '2MASS J0045214+163444': this identifier has an incorrect format for catalog: \t2MASS : 2 Micron Sky Survey, Point Sources\n",
      "  (error.line, error.msg))\n"
     ]
    },
    {
     "name": "stdout",
     "output_type": "stream",
     "text": [
      "\n",
      "None\n",
      "        MAIN_ID              RA      ... ROT_qual     ROT_bibcode    \n",
      "                          \"h:m:s\"    ...                             \n",
      "----------------------- ------------ ... -------- -------------------\n",
      "2MASS J05002100+0330501 05 00 21.003 ...          2010ApJ...723..684B\n",
      "None"
     ]
    },
    {
     "name": "stderr",
     "output_type": "stream",
     "text": [
      "/Users/ellie/anaconda/lib/python2.7/site-packages/astroquery/simbad/core.py:866: UserWarning: Warning: The script line number 3 raised an error (recorded in the `errors` attribute of the result table): '2MASS J1424390+091710': this identifier has an incorrect format for catalog: \t2MASS : 2 Micron Sky Survey, Point Sources\n",
      "  (error.line, error.msg))\n",
      "/Users/ellie/anaconda/lib/python2.7/site-packages/astroquery/simbad/core.py:866: UserWarning: Warning: The script line number 3 raised an error (recorded in the `errors` attribute of the result table): '2MASS J1705483-051646': this identifier has an incorrect format for catalog: \t2MASS : 2 Micron Sky Survey, Point Sources\n",
      "  (error.line, error.msg))\n"
     ]
    },
    {
     "name": "stdout",
     "output_type": "stream",
     "text": [
      "\n",
      "None\n",
      "        MAIN_ID              RA          DEC      ... ROT_qual ROT_bibcode\n",
      "                          \"h:m:s\"      \"d:m:s\"    ...                     \n",
      "----------------------- ------------ ------------ ... -------- -----------\n",
      "2MASS J04351455-1414468 04 35 14.555 -14 14 46.86 ...                     \n",
      "None"
     ]
    },
    {
     "name": "stderr",
     "output_type": "stream",
     "text": [
      "/Users/ellie/anaconda/lib/python2.7/site-packages/astroquery/simbad/core.py:866: UserWarning: Warning: The script line number 3 raised an error (recorded in the `errors` attribute of the result table): '2MASS J0141032+180450': this identifier has an incorrect format for catalog: \t2MASS : 2 Micron Sky Survey, Point Sources\n",
      "  (error.line, error.msg))\n",
      "/Users/ellie/anaconda/lib/python2.7/site-packages/astroquery/simbad/core.py:866: UserWarning: Warning: The script line number 3 raised an error (recorded in the `errors` attribute of the result table): '2MASS J0652307+471034': this identifier has an incorrect format for catalog: \t2MASS : 2 Micron Sky Survey, Point Sources\n",
      "  (error.line, error.msg))\n"
     ]
    },
    {
     "name": "stdout",
     "output_type": "stream",
     "text": [
      "\n",
      "None\n",
      "None\n",
      "        MAIN_ID              RA      ... ROT_qual     ROT_bibcode    \n",
      "                          \"h:m:s\"    ...                             \n",
      "----------------------- ------------ ... -------- -------------------\n",
      "2MASS J03552337+1133437 03 55 23.370 ...          2010ApJ...723..684B\n",
      "        MAIN_ID              RA         DEC     ... ROT_qual     ROT_bibcode    \n",
      "                          \"h:m:s\"     \"d:m:s\"   ...                             \n",
      "----------------------- ----------- ----------- ... -------- -------------------\n",
      "2MASS J05395200-0059019 05 39 52.00 -00 59 01.9 ...          2010ApJ...723..684B"
     ]
    },
    {
     "name": "stderr",
     "output_type": "stream",
     "text": [
      "/Users/ellie/anaconda/lib/python2.7/site-packages/astroquery/simbad/core.py:866: UserWarning: Warning: The script line number 3 raised an error (recorded in the `errors` attribute of the result table): '2MASS J2224438-015852': this identifier has an incorrect format for catalog: \t2MASS : 2 Micron Sky Survey, Point Sources\n",
      "  (error.line, error.msg))\n",
      "/Users/ellie/anaconda/lib/python2.7/site-packages/astroquery/simbad/core.py:866: UserWarning: Warning: The script line number 3 raised an error (recorded in the `errors` attribute of the result table): '2MASS J0004348-404405': this identifier has an incorrect format for catalog: \t2MASS : 2 Micron Sky Survey, Point Sources\n",
      "  (error.line, error.msg))\n"
     ]
    },
    {
     "name": "stdout",
     "output_type": "stream",
     "text": [
      "\n",
      "None\n",
      "None"
     ]
    },
    {
     "name": "stderr",
     "output_type": "stream",
     "text": [
      "/Users/ellie/anaconda/lib/python2.7/site-packages/astroquery/simbad/core.py:866: UserWarning: Warning: The script line number 3 raised an error (recorded in the `errors` attribute of the result table): '2MASS J0144353-071614': this identifier has an incorrect format for catalog: \t2MASS : 2 Micron Sky Survey, Point Sources\n",
      "  (error.line, error.msg))\n",
      "/Users/ellie/anaconda/lib/python2.7/site-packages/astroquery/simbad/core.py:866: UserWarning: Warning: The script line number 3 raised an error (recorded in the `errors` attribute of the result table): '2MASS J0205034+125142': this identifier has an incorrect format for catalog: \t2MASS : 2 Micron Sky Survey, Point Sources\n",
      "  (error.line, error.msg))\n"
     ]
    },
    {
     "name": "stdout",
     "output_type": "stream",
     "text": [
      "\n",
      "None\n",
      "None"
     ]
    },
    {
     "name": "stderr",
     "output_type": "stream",
     "text": [
      "/Users/ellie/anaconda/lib/python2.7/site-packages/astroquery/simbad/core.py:866: UserWarning: Warning: The script line number 3 raised an error (recorded in the `errors` attribute of the result table): '2MASS J0835425-081923': this identifier has an incorrect format for catalog: \t2MASS : 2 Micron Sky Survey, Point Sources\n",
      "  (error.line, error.msg))\n",
      "/Users/ellie/anaconda/lib/python2.7/site-packages/astroquery/simbad/core.py:866: UserWarning: Warning: The script line number 3 raised an error (recorded in the `errors` attribute of the result table): '2MASS J1228152-154734': this identifier has an incorrect format for catalog: \t2MASS : 2 Micron Sky Survey, Point Sources\n",
      "  (error.line, error.msg))\n"
     ]
    },
    {
     "name": "stdout",
     "output_type": "stream",
     "text": [
      "\n",
      "None\n",
      "None\n",
      "        MAIN_ID              RA          DEC      ... ROT_qual ROT_bibcode\n",
      "                          \"h:m:s\"      \"d:m:s\"    ...                     \n",
      "----------------------- ------------ ------------ ... -------- -----------\n",
      "2MASS J17502484-0016151 17 50 24.841 -00 16 15.11 ...                     "
     ]
    },
    {
     "name": "stderr",
     "output_type": "stream",
     "text": [
      "/Users/ellie/anaconda/lib/python2.7/site-packages/astroquery/simbad/core.py:866: UserWarning: Warning: The script line number 3 raised an error (recorded in the `errors` attribute of the result table): '2MASS J1507476-162738': this identifier has an incorrect format for catalog: \t2MASS : 2 Micron Sky Survey, Point Sources\n",
      "  (error.line, error.msg))\n",
      "/Users/ellie/anaconda/lib/python2.7/site-packages/astroquery/simbad/core.py:866: UserWarning: Warning: The script line number 3 raised an error (recorded in the `errors` attribute of the result table): '2MASS J1515008+484741': this identifier has an incorrect format for catalog: \t2MASS : 2 Micron Sky Survey, Point Sources\n",
      "  (error.line, error.msg))\n"
     ]
    },
    {
     "name": "stdout",
     "output_type": "stream",
     "text": [
      "\n",
      "None\n",
      "        MAIN_ID              RA          DEC      ... ROT_qual ROT_bibcode\n",
      "                          \"h:m:s\"      \"d:m:s\"    ...                     \n",
      "----------------------- ------------ ------------ ... -------- -----------\n",
      "2MASS J21481628+4003593 21 48 16.337 +40 03 59.49 ...                     \n",
      "None"
     ]
    },
    {
     "name": "stderr",
     "output_type": "stream",
     "text": [
      "/Users/ellie/anaconda/lib/python2.7/site-packages/astroquery/simbad/core.py:866: UserWarning: Warning: The script line number 3 raised an error (recorded in the `errors` attribute of the result table): '2MASS J0700366+315726B': this identifier has an incorrect format for catalog: \t2MASS : 2 Micron Sky Survey, Point Sources\n",
      "  (error.line, error.msg))\n",
      "/Users/ellie/anaconda/lib/python2.7/site-packages/astroquery/simbad/core.py:866: UserWarning: Warning: The script line number 3 raised an error (recorded in the `errors` attribute of the result table): '2MASS J0439010-235308': this identifier has an incorrect format for catalog: \t2MASS : 2 Micron Sky Survey, Point Sources\n",
      "  (error.line, error.msg))\n"
     ]
    },
    {
     "name": "stdout",
     "output_type": "stream",
     "text": [
      "\n",
      "None\n",
      "  MAIN_ID        RA          DEC      RA_PREC ... ROT_mes ROT_qual ROT_bibcode\n",
      "              \"h:m:s\"      \"d:m:s\"            ...                             \n",
      "----------- ------------ ------------ ------- ... ------- -------- -----------\n",
      "2MUCD 10802 09 08 38.037 +50 32 08.82       7 ...       0                     \n",
      "None"
     ]
    },
    {
     "name": "stderr",
     "output_type": "stream",
     "text": [
      "/Users/ellie/anaconda/lib/python2.7/site-packages/astroquery/simbad/core.py:866: UserWarning: Warning: The script line number 3 raised an error (recorded in the `errors` attribute of the result table): '2MASS J0030300-145033': this identifier has an incorrect format for catalog: \t2MASS : 2 Micron Sky Survey, Point Sources\n",
      "  (error.line, error.msg))\n",
      "/Users/ellie/anaconda/lib/python2.7/site-packages/astroquery/simbad/core.py:866: UserWarning: Warning: The script line number 3 raised an error (recorded in the `errors` attribute of the result table): '2MASS J0205294-115929': this identifier has an incorrect format for catalog: \t2MASS : 2 Micron Sky Survey, Point Sources\n",
      "  (error.line, error.msg))\n"
     ]
    },
    {
     "name": "stdout",
     "output_type": "stream",
     "text": [
      "\n",
      "None\n",
      "None"
     ]
    },
    {
     "name": "stderr",
     "output_type": "stream",
     "text": [
      "/Users/ellie/anaconda/lib/python2.7/site-packages/astroquery/simbad/core.py:866: UserWarning: Warning: The script line number 3 raised an error (recorded in the `errors` attribute of the result table): '2MASS J1728114+394859': this identifier has an incorrect format for catalog: \t2MASS : 2 Micron Sky Survey, Point Sources\n",
      "  (error.line, error.msg))\n",
      "/Users/ellie/anaconda/lib/python2.7/site-packages/astroquery/simbad/core.py:866: UserWarning: Warning: The script line number 3 raised an error (recorded in the `errors` attribute of the result table): '2MASS J0423485-041403': this identifier has an incorrect format for catalog: \t2MASS : 2 Micron Sky Survey, Point Sources\n",
      "  (error.line, error.msg))\n"
     ]
    },
    {
     "name": "stdout",
     "output_type": "stream",
     "text": [
      "\n",
      "None\n",
      "None"
     ]
    },
    {
     "name": "stderr",
     "output_type": "stream",
     "text": [
      "/Users/ellie/anaconda/lib/python2.7/site-packages/astroquery/simbad/core.py:866: UserWarning: Warning: The script line number 3 raised an error (recorded in the `errors` attribute of the result table): '2MASS J0825196+211552': this identifier has an incorrect format for catalog: \t2MASS : 2 Micron Sky Survey, Point Sources\n",
      "  (error.line, error.msg))\n",
      "/Users/ellie/anaconda/lib/python2.7/site-packages/astroquery/simbad/core.py:866: UserWarning: Warning: The script line number 3 raised an error (recorded in the `errors` attribute of the result table): '2MASS J2252107-173013': this identifier has an incorrect format for catalog: \t2MASS : 2 Micron Sky Survey, Point Sources\n",
      "  (error.line, error.msg))\n"
     ]
    },
    {
     "name": "stdout",
     "output_type": "stream",
     "text": [
      "\n",
      "None\n",
      "  MAIN_ID        RA          DEC      RA_PREC ... ROT_mes ROT_qual ROT_bibcode\n",
      "              \"h:m:s\"      \"d:m:s\"            ...                             \n",
      "----------- ------------ ------------ ------- ... ------- -------- -----------\n",
      "2MUCD 20320 08 57 58.490 +57 08 51.42       7 ...       0                     \n",
      "        MAIN_ID              RA          DEC      ... ROT_qual ROT_bibcode\n",
      "                          \"h:m:s\"      \"d:m:s\"    ...                     \n",
      "----------------------- ------------ ------------ ... -------- -----------\n",
      "2MASS J02572581-3105523 02 57 25.818 -31 05 52.34 ...                     \n",
      "None"
     ]
    },
    {
     "name": "stderr",
     "output_type": "stream",
     "text": [
      "/Users/ellie/anaconda/lib/python2.7/site-packages/astroquery/simbad/core.py:866: UserWarning: Warning: The script line number 3 raised an error (recorded in the `errors` attribute of the result table): '2MASS J0929336+342952': this identifier has an incorrect format for catalog: \t2MASS : 2 Micron Sky Survey, Point Sources\n",
      "  (error.line, error.msg))\n",
      "/Users/ellie/anaconda/lib/python2.7/site-packages/astroquery/simbad/core.py:866: UserWarning: Warning: The script line number 3 raised an error (recorded in the `errors` attribute of the result table): '2MASS J1523226+301456': this identifier has an incorrect format for catalog: \t2MASS : 2 Micron Sky Survey, Point Sources\n",
      "  (error.line, error.msg))\n"
     ]
    },
    {
     "name": "stdout",
     "output_type": "stream",
     "text": [
      "\n",
      "None\n",
      "None\n",
      "        MAIN_ID              RA          DEC      ... ROT_qual ROT_bibcode\n",
      "                          \"h:m:s\"      \"d:m:s\"    ...                     \n",
      "----------------------- ------------ ------------ ... -------- -----------\n",
      "2MASS J08300825+4828482 08 30 08.254 +48 28 48.29 ...                     "
     ]
    },
    {
     "name": "stderr",
     "output_type": "stream",
     "text": [
      "/Users/ellie/anaconda/lib/python2.7/site-packages/astroquery/simbad/core.py:866: UserWarning: Warning: The script line number 3 raised an error (recorded in the `errors` attribute of the result table): '2MASS J1632291+190441': this identifier has an incorrect format for catalog: \t2MASS : 2 Micron Sky Survey, Point Sources\n",
      "  (error.line, error.msg))\n",
      "/Users/ellie/anaconda/lib/python2.7/site-packages/astroquery/simbad/core.py:866: UserWarning: Warning: The script line number 3 raised an error (recorded in the `errors` attribute of the result table): '2MASS J0151415+124430': this identifier has an incorrect format for catalog: \t2MASS : 2 Micron Sky Survey, Point Sources\n",
      "  (error.line, error.msg))\n"
     ]
    },
    {
     "name": "stdout",
     "output_type": "stream",
     "text": [
      "\n",
      "None\n",
      "None\n",
      "        MAIN_ID              RA         DEC     ... ROT_mes ROT_qual ROT_bibcode\n",
      "                          \"h:m:s\"     \"d:m:s\"   ...                             \n",
      "----------------------- ----------- ----------- ... ------- -------- -----------\n",
      "SIMP J013656.5+093347.3 01 36 56.62 +09 33 47.3 ...       0                     "
     ]
    },
    {
     "name": "stderr",
     "output_type": "stream",
     "text": [
      "/Users/ellie/anaconda/lib/python2.7/site-packages/astroquery/simbad/core.py:866: UserWarning: Warning: The script line number 3 raised an error (recorded in the `errors` attribute of the result table): '2MASS J2204105-564657A': this identifier has an incorrect format for catalog: \t2MASS : 2 Micron Sky Survey, Point Sources\n",
      "  (error.line, error.msg))\n",
      "/Users/ellie/anaconda/lib/python2.7/site-packages/astroquery/simbad/core.py:866: UserWarning: Warning: The script line number 3 raised an error (recorded in the `errors` attribute of the result table): '2MASS J0207428+000056': this identifier has an incorrect format for catalog: \t2MASS : 2 Micron Sky Survey, Point Sources\n",
      "  (error.line, error.msg))\n"
     ]
    },
    {
     "name": "stdout",
     "output_type": "stream",
     "text": [
      "\n",
      "None\n",
      "None\n",
      "        MAIN_ID              RA          DEC      ... ROT_qual ROT_bibcode\n",
      "                          \"h:m:s\"      \"d:m:s\"    ...                     \n",
      "----------------------- ------------ ------------ ... -------- -----------\n",
      "2MASS J15031961+2525196 15 03 19.613 +25 25 19.68 ...                     "
     ]
    },
    {
     "name": "stderr",
     "output_type": "stream",
     "text": [
      "/Users/ellie/anaconda/lib/python2.7/site-packages/astroquery/simbad/core.py:866: UserWarning: Warning: The script line number 3 raised an error (recorded in the `errors` attribute of the result table): '2MASS J0559191-140448': this identifier has an incorrect format for catalog: \t2MASS : 2 Micron Sky Survey, Point Sources\n",
      "  (error.line, error.msg))\n",
      "/Users/ellie/anaconda/lib/python2.7/site-packages/astroquery/simbad/core.py:866: UserWarning: Warning: The script line number 3 raised an error (recorded in the `errors` attribute of the result table): '2MASS J1534498-295227': this identifier has an incorrect format for catalog: \t2MASS : 2 Micron Sky Survey, Point Sources\n",
      "  (error.line, error.msg))\n"
     ]
    },
    {
     "name": "stdout",
     "output_type": "stream",
     "text": [
      "\n",
      "None\n",
      "       MAIN_ID              RA         DEC     ... ROT_mes ROT_qual ROT_bibcode\n",
      "                         \"h:m:s\"     \"d:m:s\"   ...                             \n",
      "---------------------- ----------- ----------- ... ------- -------- -----------\n",
      "2MASSI J0937347+293142 09 37 34.88 +29 31 41.0 ...       0                     \n",
      "        MAIN_ID              RA          DEC      ... ROT_qual ROT_bibcode\n",
      "                          \"h:m:s\"      \"d:m:s\"    ...                     \n",
      "----------------------- ------------ ------------ ... -------- -----------\n",
      "2MASS J21543318+5942187 21 54 33.187 +59 42 18.77 ...                     \n",
      "None"
     ]
    },
    {
     "name": "stderr",
     "output_type": "stream",
     "text": [
      "/Users/ellie/anaconda/lib/python2.7/site-packages/astroquery/simbad/core.py:866: UserWarning: Warning: The script line number 3 raised an error (recorded in the `errors` attribute of the result table): '2MASS J1624144+002916': this identifier has an incorrect format for catalog: \t2MASS : 2 Micron Sky Survey, Point Sources\n",
      "  (error.line, error.msg))\n",
      "/Users/ellie/anaconda/lib/python2.7/site-packages/astroquery/simbad/core.py:866: UserWarning: Warning: The script line number 3 raised an error (recorded in the `errors` attribute of the result table): '2MASS J2204105-564657B': this identifier has an incorrect format for catalog: \t2MASS : 2 Micron Sky Survey, Point Sources\n",
      "  (error.line, error.msg))\n"
     ]
    },
    {
     "name": "stdout",
     "output_type": "stream",
     "text": [
      "\n",
      "None\n",
      "None"
     ]
    },
    {
     "name": "stderr",
     "output_type": "stream",
     "text": [
      "/Users/ellie/anaconda/lib/python2.7/site-packages/astroquery/simbad/core.py:866: UserWarning: Warning: The script line number 3 raised an error (recorded in the `errors` attribute of the result table): '2MASS J1047539+212423': this identifier has an incorrect format for catalog: \t2MASS : 2 Micron Sky Survey, Point Sources\n",
      "  (error.line, error.msg))\n",
      "/Users/ellie/anaconda/lib/python2.7/site-packages/astroquery/simbad/core.py:866: UserWarning: Warning: The script line number 3 raised an error (recorded in the `errors` attribute of the result table): '2MASS J1346464-003150': this identifier has an incorrect format for catalog: \t2MASS : 2 Micron Sky Survey, Point Sources\n",
      "  (error.line, error.msg))\n"
     ]
    },
    {
     "name": "stdout",
     "output_type": "stream",
     "text": [
      "\n",
      "None\n",
      "       MAIN_ID              RA         DEC     ... ROT_mes ROT_qual ROT_bibcode\n",
      "                         \"h:m:s\"     \"d:m:s\"   ...                             \n",
      "---------------------- ----------- ----------- ... ------- -------- -----------\n",
      "2MASSI J0727182+171001 07 27 18.25 +17 10 01.2 ...       0                     \n",
      "None\n",
      "        MAIN_ID              RA          DEC      ... ROT_qual ROT_bibcode\n",
      "                          \"h:m:s\"      \"d:m:s\"    ...                     \n",
      "----------------------- ------------ ------------ ... -------- -----------\n",
      "2MASS J11145133-2618235 11 14 51.337 -26 18 23.56 ...                     "
     ]
    },
    {
     "name": "stderr",
     "output_type": "stream",
     "text": [
      "/Users/ellie/anaconda/lib/python2.7/site-packages/astroquery/simbad/core.py:866: UserWarning: Warning: The script line number 3 raised an error (recorded in the `errors` attribute of the result table): '2MASS J0610351-215117': this identifier has an incorrect format for catalog: \t2MASS : 2 Micron Sky Survey, Point Sources\n",
      "  (error.line, error.msg))\n",
      "/Users/ellie/anaconda/lib/python2.7/site-packages/astroquery/simbad/core.py:866: UserWarning: Warning: The script line number 3 raised an error (recorded in the `errors` attribute of the result table): '2MASS J1217111-031113': this identifier has an incorrect format for catalog: \t2MASS : 2 Micron Sky Survey, Point Sources\n",
      "  (error.line, error.msg))\n"
     ]
    },
    {
     "name": "stdout",
     "output_type": "stream",
     "text": [
      "\n",
      "None\n",
      "        MAIN_ID              RA          DEC      ... ROT_qual ROT_bibcode\n",
      "                          \"h:m:s\"      \"d:m:s\"    ...                     \n",
      "----------------------- ------------ ------------ ... -------- -----------\n",
      "2MASS J09393548-2448279 09 39 35.490 -24 48 27.94 ...                     \n",
      " MAIN_ID        RA         DEC     RA_PREC ... ROT_mes ROT_qual ROT_bibcode\n",
      "             \"h:m:s\"     \"d:m:s\"           ...                             \n",
      "---------- ----------- ----------- ------- ... ------- -------- -----------\n",
      "GJ   570 D 14 57 14.96 -21 21 47.8       6 ...       0                     \n",
      "None\n",
      "       MAIN_ID              RA         DEC     ... ROT_mes ROT_qual ROT_bibcode\n",
      "                         \"h:m:s\"     \"d:m:s\"   ...                             \n",
      "---------------------- ----------- ----------- ... ------- -------- -----------\n",
      "2MASSW J1047539+212423 10 47 53.85 +21 24 23.5 ...       0                     \n",
      " MAIN_ID       RA          DEC      RA_PREC ... ROT_mes ROT_qual ROT_bibcode\n",
      "            \"h:m:s\"      \"d:m:s\"            ...                             \n",
      "--------- ------------ ------------ ------- ... ------- -------- -----------\n",
      "LP  760-3 22 28 54.401 -13 25 17.86       7 ...       0                     \n",
      "MAIN_ID       RA          DEC      RA_PREC ... ROT_mes ROT_qual ROT_bibcode\n",
      "           \"h:m:s\"      \"d:m:s\"            ...                             \n",
      "-------- ------------ ------------ ------- ... ------- -------- -----------\n",
      "GJ  3622 10 48 12.583 -11 20 08.23       7 ...       0                     \n",
      " MAIN_ID        RA         DEC     RA_PREC ... ROT_mes ROT_qual ROT_bibcode\n",
      "             \"h:m:s\"     \"d:m:s\"           ...                             \n",
      "---------- ----------- ----------- ------- ... ------- -------- -----------\n",
      "NLTT 33370 13 14 20.39 +13 20 01.2       6 ...       0                     \n",
      " MAIN_ID        RA          DEC      RA_PREC ... ROT_mes ROT_qual ROT_bibcode\n",
      "             \"h:m:s\"      \"d:m:s\"            ...                             \n",
      "---------- ------------ ------------ ------- ... ------- -------- -----------\n",
      "LP  914-54 14 56 38.314 -28 09 47.38       7 ...       0                     \n",
      " MAIN_ID        RA          DEC      RA_PREC ... ROT_mes ROT_qual ROT_bibcode\n",
      "             \"h:m:s\"      \"d:m:s\"            ...                             \n",
      "---------- ------------ ------------ ------- ... ------- -------- -----------\n",
      "GJ   644 C 16 55 35.293 -08 23 40.11       7 ...       0                     \n",
      "        MAIN_ID              RA          DEC      ... ROT_qual ROT_bibcode\n",
      "                          \"h:m:s\"      \"d:m:s\"    ...                     \n",
      "----------------------- ------------ ------------ ... -------- -----------\n",
      "2MASS J11554286-2224586 11 55 42.868 -22 24 58.60 ...                     \n",
      "       MAIN_ID              RA          DEC      ... ROT_qual ROT_bibcode\n",
      "                         \"h:m:s\"      \"d:m:s\"    ...                     \n",
      "---------------------- ------------ ------------ ... -------- -----------\n",
      "2MASSI J1521010+505323 15 21 01.039 +50 53 23.02 ...                     \n",
      " MAIN_ID        RA          DEC      ... ROT_mes ROT_qual     ROT_bibcode    \n",
      "             \"h:m:s\"      \"d:m:s\"    ...                                     \n",
      "---------- ------------ ------------ ... ------- -------- -------------------\n",
      "LP  349-25 00 27 55.926 +22 19 32.84 ...       0        D 2012AJ....144...99D\n",
      " MAIN_ID        RA          DEC      ... ROT_mes ROT_qual     ROT_bibcode    \n",
      "             \"h:m:s\"      \"d:m:s\"    ...                                     \n",
      "---------- ------------ ------------ ... ------- -------- -------------------\n",
      "LP  412-31 03 20 59.653 +18 54 23.31 ...       0        D 2012AJ....144...99D\n",
      " MAIN_ID        RA          DEC      RA_PREC ... ROT_mes ROT_qual ROT_bibcode\n",
      "             \"h:m:s\"      \"d:m:s\"            ...                             \n",
      "---------- ------------ ------------ ------- ... ------- -------- -----------\n",
      "LP  732-94 11 21 49.248 -13 13 08.40       7 ...       0                     \n",
      " MAIN_ID        RA          DEC      RA_PREC ... ROT_mes ROT_qual ROT_bibcode\n",
      "             \"h:m:s\"      \"d:m:s\"            ...                             \n",
      "---------- ------------ ------------ ------- ... ------- -------- -----------\n",
      "LP  229-30 18 43 22.134 +40 40 20.97       7 ...       0                     \n",
      "MAIN_ID      RA          DEC      RA_PREC ... ROT_mes ROT_qual ROT_bibcode\n",
      "          \"h:m:s\"      \"d:m:s\"            ...                             \n",
      "------- ------------ ------------ ------- ... ------- -------- -----------\n",
      "  VB 10 19 16 57.622 +05 09 02.18       7 ...       0                     \n",
      "  MAIN_ID         RA           DEC      RA_PREC ... ROT_mes ROT_qual ROT_bibcode\n",
      "               \"h:m:s\"       \"d:m:s\"            ...                             \n",
      "----------- ------------- ------------- ------- ... ------- -------- -----------\n",
      "BD+16  2708 14 54 29.2371 +16 06 03.827       9 ...       0                     \n",
      "       MAIN_ID              RA      ... ROT_qual     ROT_bibcode    \n",
      "                         \"h:m:s\"    ...                             \n",
      "---------------------- ------------ ... -------- -------------------\n",
      "2MASSI J1835379+325954 18 35 37.902 ...        D 2012AJ....144...99D\n",
      " MAIN_ID        RA          DEC      RA_PREC ... ROT_mes ROT_qual ROT_bibcode\n",
      "             \"h:m:s\"      \"d:m:s\"            ...                             \n",
      "---------- ------------ ------------ ------- ... ------- -------- -----------\n",
      "LP  647-13 01 09 51.172 -03 43 26.43       7 ...       0                     \n",
      " MAIN_ID        RA          DEC      RA_PREC ... ROT_mes ROT_qual ROT_bibcode\n",
      "             \"h:m:s\"      \"d:m:s\"            ...                             \n",
      "---------- ------------ ------------ ------- ... ------- -------- -----------\n",
      "LP  944-20 03 39 35.220 -35 25 44.09       7 ...       0                     \n",
      " MAIN_ID       RA          DEC      RA_PREC ... ROT_mes ROT_qual ROT_bibcode\n",
      "            \"h:m:s\"      \"d:m:s\"            ...                             \n",
      "--------- ------------ ------------ ------- ... ------- -------- -----------\n",
      "LP  666-9 08 53 36.196 -03 29 32.11       7 ...       0                     \n",
      "      MAIN_ID             RA          DEC      ... ROT_mes ROT_qual ROT_bibcode\n",
      "                       \"h:m:s\"      \"d:m:s\"    ...                             \n",
      "-------------------- ------------ ------------ ... ------- -------- -----------\n",
      "DENIS-P J1048.0-3956 10 48 14.640 -39 56 06.24 ...       0                     \n",
      " MAIN_ID        RA          DEC      RA_PREC ... ROT_mes ROT_qual ROT_bibcode\n",
      "             \"h:m:s\"      \"d:m:s\"            ...                             \n",
      "---------- ------------ ------------ ------- ... ------- -------- -----------\n",
      "LP  271-25 14 28 43.233 +33 10 39.14       7 ...       0                     \n",
      "  MAIN_ID        RA          DEC      RA_PREC ... ROT_mes ROT_qual ROT_bibcode\n",
      "              \"h:m:s\"      \"d:m:s\"            ...                             \n",
      "----------- ------------ ------------ ------- ... ------- -------- -----------\n",
      "TVLM 513-46 15 01 08.187 +22 50 02.04       7 ...       0                     \n",
      " MAIN_ID       RA          DEC      RA_PREC ... ROT_mes ROT_qual ROT_bibcode\n",
      "            \"h:m:s\"      \"d:m:s\"            ...                             \n",
      "--------- ------------ ------------ ------- ... ------- -------- -----------\n",
      "V* DY Psc 00 24 24.636 -01 58 20.14       7 ...       0                     \n",
      "    MAIN_ID          RA          DEC      ... ROT_qual     ROT_bibcode    \n",
      "                  \"h:m:s\"      \"d:m:s\"    ...                             \n",
      "--------------- ------------ ------------ ... -------- -------------------\n",
      "LSPM J0746+2000 07 46 42.562 +20 00 32.18 ...          2010ApJ...723..684B\n",
      "    MAIN_ID          RA          DEC      ... ROT_qual     ROT_bibcode    \n",
      "                  \"h:m:s\"      \"d:m:s\"    ...                             \n",
      "--------------- ------------ ------------ ... -------- -------------------\n",
      "LSPM J0602+3910 06 02 30.460 +39 10 59.22 ...          2010ApJ...723..684B\n",
      "  MAIN_ID        RA          DEC      ... ROT_mes ROT_qual     ROT_bibcode    \n",
      "              \"h:m:s\"      \"d:m:s\"    ...                                     \n",
      "----------- ------------ ------------ ... ------- -------- -------------------\n",
      "NAME Kelu-1 13 05 40.196 -25 41 05.99 ...       0          2010ApJ...723..684B\n",
      "        MAIN_ID              RA      ... ROT_qual     ROT_bibcode    \n",
      "                          \"h:m:s\"    ...                             \n",
      "----------------------- ------------ ... -------- -------------------\n",
      "2MASS J05233822-1403022 05 23 38.221 ...          2010ApJ...723..684B\n",
      "    MAIN_ID          RA          DEC      ... ROT_qual     ROT_bibcode    \n",
      "                  \"h:m:s\"      \"d:m:s\"    ...                             \n",
      "--------------- ------------ ------------ ... -------- -------------------\n",
      "LSPM J0036+1821 00 36 16.176 +18 21 10.47 ...          2010ApJ...723..684B\n",
      "        MAIN_ID               RA          DEC      ... ROT_qual ROT_bibcode\n",
      "                           \"h:m:s\"      \"d:m:s\"    ...                     \n",
      "------------------------ ------------ ------------ ... -------- -----------\n",
      "DENIS-P J122815.2-154733 12 28 15.232 -15 47 34.23 ...                     \n",
      "       MAIN_ID              RA      ... ROT_qual     ROT_bibcode    \n",
      "                         \"h:m:s\"    ...                             \n",
      "---------------------- ------------ ... -------- -------------------\n",
      "2MASSW J1507476-162738 15 07 47.693 ...          2010ApJ...723..684B\n",
      "       MAIN_ID              RA         DEC     ... ROT_mes ROT_qual ROT_bibcode\n",
      "                         \"h:m:s\"     \"d:m:s\"   ...                             \n",
      "---------------------- ----------- ----------- ... ------- -------- -----------\n",
      "2MASSW J1047539+212423 10 47 53.85 +21 24 23.5 ...       0                     \n",
      "       MAIN_ID              RA          DEC      ... ROT_qual ROT_bibcode\n",
      "                         \"h:m:s\"      \"d:m:s\"    ...                     \n",
      "---------------------- ------------ ------------ ... -------- -----------\n",
      "2MASSI J1043075+222523 10 43 07.583 +22 25 23.61 ...                     \n",
      "        MAIN_ID              RA          DEC      ... ROT_qual ROT_bibcode\n",
      "                          \"h:m:s\"      \"d:m:s\"    ...                     \n",
      "----------------------- ------------ ------------ ... -------- -----------\n",
      "2MASS J12373919+6526148 12 37 39.196 +65 26 14.81 ...                     "
     ]
    },
    {
     "name": "stderr",
     "output_type": "stream",
     "text": [
      "/Users/ellie/anaconda/lib/python2.7/site-packages/astroquery/simbad/core.py:866: UserWarning: Warning: The script line number 3 raised an error (recorded in the `errors` attribute of the result table): '2MASS J0415195-093506': this identifier has an incorrect format for catalog: \t2MASS : 2 Micron Sky Survey, Point Sources\n",
      "  (error.line, error.msg))\n",
      "/Users/ellie/anaconda/lib/python2.7/site-packages/astroquery/simbad/core.py:866: UserWarning: Warning: The script line number 3 raised an error (recorded in the `errors` attribute of the result table): '2MASS JSDSS 04234858-04': this identifier has an incorrect format for catalog: \t2MASS : 2 Micron Sky Survey, Point Sources\n",
      "  (error.line, error.msg))\n"
     ]
    },
    {
     "name": "stdout",
     "output_type": "stream",
     "text": [
      "\n",
      "None\n",
      " MAIN_ID        RA          DEC      RA_PREC ... ROT_mes ROT_qual ROT_bibcode\n",
      "             \"h:m:s\"      \"d:m:s\"            ...                             \n",
      "---------- ------------ ------------ ------- ... ------- -------- -----------\n",
      "LP  881-64 00 24 44.194 -27 08 24.24       7 ...       0                     \n",
      "        MAIN_ID              RA          DEC      ... ROT_qual ROT_bibcode\n",
      "                          \"h:m:s\"      \"d:m:s\"    ...                     \n",
      "----------------------- ------------ ------------ ... -------- -----------\n",
      "2MASS J03341218-4953322 03 34 12.181 -49 53 32.28 ...                     \n",
      "None\n",
      "        MAIN_ID               RA          DEC      ... ROT_qual ROT_bibcode\n",
      "                           \"h:m:s\"      \"d:m:s\"    ...                     \n",
      "------------------------ ------------ ------------ ... -------- -----------\n",
      "DENIS-P J025503.3-470049 02 55 03.579 -47 00 50.99 ...                     \n",
      "[]\n"
     ]
    },
    {
     "name": "stderr",
     "output_type": "stream",
     "text": [
      "/Users/ellie/anaconda/lib/python2.7/site-packages/astroquery/simbad/core.py:866: UserWarning: Warning: The script line number 3 raised an error (recorded in the `errors` attribute of the result table): '2MASS J0340094-672405': this identifier has an incorrect format for catalog: \t2MASS : 2 Micron Sky Survey, Point Sources\n",
      "  (error.line, error.msg))\n"
     ]
    }
   ],
   "source": [
    "vsini=[]\n",
    "\n",
    "\n",
    "for elem in objects:\n",
    "    df = Simbad.query_object('2MASS J' + elem )\n",
    "    print df\n",
    "    #vsini.append(df['ROT_Vsini'])\n",
    "print vsini"
   ]
  },
  {
   "cell_type": "code",
   "execution_count": 4,
   "metadata": {
    "collapsed": false
   },
   "outputs": [
    {
     "name": "stdout",
     "output_type": "stream",
     "text": [
      "['10481258-1120082' '0435161-160657 ' '0440232-053008 ' '0752239+161215 '\n",
      " '1456383-280947 ' '1634216+571008 ' '1655352-082340 ' '0741068+173845 '\n",
      " '0818580+233352 ' '0952219-192431 ' '1141440-223215 ' '1314203+132001A '\n",
      " '1354087+084608 ' '13564148+4342587' '1534570-141848 ' '2337383-125027 '\n",
      " '17571539+7042011' '11554286-2224586' '05395200-0059019'\n",
      " '12505265-2121136' '0148386-302439 ' '0331302-304238 ' '0417374-080000 '\n",
      " '0429184-312356 ' '1521010+505323 ' '0351000-005244 ' '1006319-165326 '\n",
      " '1246517+314811 ' '1253124+403403 ' '1332244-044112 ' '1507277-200043 '\n",
      " '1546054+374946 ' '2331217-274950 ' '04351455-1414468' '02150802-3040011'\n",
      " '05392474+4038437' '0019262+461407 ' '0350573+181806 ' '0436103+225956 '\n",
      " '0517376-334902 ' '1016347+275149 ' '1048146-395606 ' '1139511-315921 '\n",
      " '1534570-141848 ' '1843221+404021 ' '1916576+050902 ' '2037071-113756 '\n",
      " '0027559+221932 ' '0248410-165121 ' '0320596+185423 ' '0544115-243301 '\n",
      " '0629235-024851B ' '1016347+275149 ' '1024099+181553 ' '1309218-233035 '\n",
      " '1428041+135613 ' '1440229+133923 ' '1444171+300214 ' '2206227-204706 '\n",
      " '2349489+122438 ' '2351504-253736A ' '18261131+3014201' '0335020+234235 '\n",
      " '1454290+160605 ' '1501081+225002 ' '1835379+325954 ' '0140026+270150 '\n",
      " '1121492-131308 ' '1124048+380805 ' '1403223+300754 ' '2353594-083331 '\n",
      " '14284323+3310391' '0019457+521317 ' '0109511-034326 ' '0339352-352544 '\n",
      " '0434152+225031 ' '0436389+225812 ' '0537259-023432 ' '0810586+142039 '\n",
      " '0853362-032932 ' '1454280+160605 ' '1627279+810507 ' '1707183+643933 '\n",
      " '0443376+000205 ' '1224522-123835 ' '1411213-211950 ' '1428432+331039 '\n",
      " '1707234-055824 ' '2200020-303832AB' '0024246-015819 ' '0027420+050341 '\n",
      " '0109217+294925 ' '0149089+295613 ' '1438082+640836 ' '2237325+392239 '\n",
      " '17312974+2721233' '1421314+182740 ' '0345431+254023 ' '0314034+160305 '\n",
      " '1159385+005726 ' '1221277+025719 ' '1731297+272123 ' '1854459+842947 '\n",
      " '0746425+200032 ' '1412244+163311 ' '1441371-094559 ' '2351504-253736B '\n",
      " '0602304+391059 ' '1300425+191235 ' '0235599-233120 ' '1045240-014957 '\n",
      " '1048428+011158 ' '1439283+192914 ' '1555157-095605 ' '0213288+444445 '\n",
      " '2057540-025230 ' '1145571+231729 ' '1334062+194035 ' '1645221-131951 '\n",
      " '1807159+501531 ' '09211410-2104446' '08283419-1309198' '0109015-510049 '\n",
      " '0445538-304820 ' '1305401-254110 ' '0523382-140302 ' '1029216+162652 '\n",
      " '1047310-181557 ' '0251149-035245 ' '1721039+334416 ' '2104149-103736 '\n",
      " '0913032+184150 ' '1203581+001550 ' '1506544+132106 ' '1615441+355900 '\n",
      " '1707234-055824 ' '0700366+315726A ' '0036161+182110 ' '0045214+163444 '\n",
      " '05002100+0330501' '1424390+091710 ' '1705483-051646 ' '04351455-1414468'\n",
      " '0141032+180450 ' '0652307+471034 ' '2224438-015852 ' '03552337+1133437'\n",
      " '05395200-0059019' '0004348-404405 ' '0144353-071614 ' '0205034+125142 '\n",
      " '0835425-081923 ' '1228152-154734 ' '1507476-162738 ' '17502484-0016151'\n",
      " '1515008+484741 ' '21481633+4003594' '0700366+315726B ' '0439010-235308 '\n",
      " '09083803+5032088' '0030300-145033 ' '0205294-115929 ' '1728114+394859 '\n",
      " '0423485-041403 ' '0825196+211552 ' '2252107-173013 ' '08575849+5708514'\n",
      " '02572581-3105523' '0929336+342952 ' '1523226+301456 ' '1632291+190441 '\n",
      " '08300825+4828482' '0151415+124430 ' '2204105-564657A ' '01365662+0933473'\n",
      " '0207428+000056 ' '0559191-140448 ' '15031961+2525196' '1534498-295227 '\n",
      " '09373487+2931409' '21543318+5942187' '1624144+002916 ' '2204105-564657B '\n",
      " '1047539+212423 ' '1346464-003150 ' '07271824+1710012' '0610351-215117 '\n",
      " '11145133-2618235' '1217111-031113 ' '09393548-2448279' '14571496-2121477'\n",
      " '0415195-093506 ' '10475385+2124234' '22285440-1325178' '10481258-1120082'\n",
      " '13142039+1320011' '14563831-2809473' '16553529-0823401'\n",
      " '11554286-2224586' '15210103+5053230' '00275592+2219328'\n",
      " '03205965+1854233' '11214924-1313084' '18432213+4040209'\n",
      " '19165762+0509021' '14542923+1606039' '18353790+3259545'\n",
      " '01095117-0343264' '03393521-3525440' '08533619-0329321'\n",
      " '10481463-3956062' '14284323+3310391' '15010818+2250020'\n",
      " '00242463-0158201' '07464256+2000321' '06023045+3910592'\n",
      " '13054019-2541059' '05233822-1403022' '00361617+1821104'\n",
      " '12281523-1547342' '15074769-1627386' '10475385+2124234'\n",
      " '10430758+2225236' '12373919+6526148' 'SDSS 04234858-04'\n",
      " '00244419-2708242' '03341218-4953322' '0340094-672405' '02550357-4700509']\n"
     ]
    }
   ],
   "source": [
    "print objects"
   ]
  },
  {
   "cell_type": "code",
   "execution_count": null,
   "metadata": {
    "collapsed": true
   },
   "outputs": [],
   "source": []
  }
 ],
 "metadata": {
  "kernelspec": {
   "display_name": "Python 2",
   "language": "python",
   "name": "python2"
  },
  "language_info": {
   "codemirror_mode": {
    "name": "ipython",
    "version": 2
   },
   "file_extension": ".py",
   "mimetype": "text/x-python",
   "name": "python",
   "nbconvert_exporter": "python",
   "pygments_lexer": "ipython2",
   "version": "2.7.11"
  }
 },
 "nbformat": 4,
 "nbformat_minor": 0
}
