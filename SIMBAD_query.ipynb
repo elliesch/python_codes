{
 "cells": [
  {
   "cell_type": "code",
   "execution_count": 25,
   "metadata": {
    "collapsed": false
   },
   "outputs": [],
   "source": [
    "from astroquery.simbad import Simbad\n",
    "import numpy as np\n",
    "from urllib import urlopen\n"
   ]
  },
  {
   "cell_type": "code",
   "execution_count": 3,
   "metadata": {
    "collapsed": false
   },
   "outputs": [
    {
     "data": {
      "text/plain": [
       "<bound method SimbadClass.query_object of <astroquery.simbad.core.SimbadClass object at 0x106b28290>>"
      ]
     },
     "execution_count": 3,
     "metadata": {},
     "output_type": "execute_result"
    }
   ],
   "source": [
    "Simbad.query_object"
   ]
  },
  {
   "cell_type": "code",
   "execution_count": 26,
   "metadata": {
    "collapsed": false
   },
   "outputs": [],
   "source": [
    "csv = np.genfromtxt ('RadioDetectionTable_Limits.csv', delimiter=\",\",dtype=\"|S16\")\n",
    "objects = csv[1:,0] \n",
    "\n",
    "\n",
    "def checksimbadforentries(identifier2MASS):\n",
    "    '''\n",
    "    Enter 2MASS identifier string (HHMMSSss+/-DDMMSSs), return the URL if there\n",
    "    is a SIMBAD entry for the object, return None otherwise. \n",
    "    '''\n",
    "    for i in identifier2MASS :\n",
    "        entry_URL = []\n",
    "        HTMLidentifier = '2MASS+J'+i.replace('+', '%2B').replace('-','%2D')\n",
    "        URL = 'http://simbad.harvard.edu/simbad/sim-basic?Ident=%s&submit=SIMBAD+search' % (HTMLidentifier)\n",
    "        rawhtml = urlopen(URL).read()\n",
    "        #print rawhtml\n",
    "        insimbad = 'Identifier not found in the database' not in rawhtml\n",
    "    if insimbad: \n",
    "        return URL\n",
    "    else: \n",
    "        return None        "
   ]
  },
  {
   "cell_type": "code",
   "execution_count": 28,
   "metadata": {
    "collapsed": false
   },
   "outputs": [],
   "source": [
    "#checksimbadforentries(objects)"
   ]
  },
  {
   "cell_type": "code",
   "execution_count": null,
   "metadata": {
    "collapsed": true
   },
   "outputs": [],
   "source": []
  }
 ],
 "metadata": {
  "kernelspec": {
   "display_name": "Python 2",
   "language": "python",
   "name": "python2"
  },
  "language_info": {
   "codemirror_mode": {
    "name": "ipython",
    "version": 2
   },
   "file_extension": ".py",
   "mimetype": "text/x-python",
   "name": "python",
   "nbconvert_exporter": "python",
   "pygments_lexer": "ipython2",
   "version": "2.7.11"
  }
 },
 "nbformat": 4,
 "nbformat_minor": 0
}
