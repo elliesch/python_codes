{
 "cells": [
  {
   "cell_type": "code",
   "execution_count": 1,
   "metadata": {
    "collapsed": true
   },
   "outputs": [],
   "source": [
    "#############################################################################################################\n",
    "\n",
    "import matplotlib.pyplot as plt\n",
    "%matplotlib inline\n",
    "import numpy as np\n",
    "import math\n",
    "import linmix\n",
    "\n",
    "#1. This section imports the necessary columns from the csv file into arrays\n",
    "csv = np.genfromtxt ('RadioDetectionTable_Limits.csv', delimiter=\",\")\n",
    "t_eff = csv[1:,13]\n",
    "xsig = csv[1:,14]\n",
    "LV = csv[1:,7]\n",
    "ysig = csv[1:,8]\n",
    "delta = csv[1:,10]\n",
    "\n",
    "\n",
    "#Creating arrays that will specify only the sample values that have an effective temperature\n",
    "\n",
    "len_t_eff = t_eff == 0\n",
    "len_t_eff = np.logical_not(len_t_eff)\n",
    "\n",
    "t_eff = t_eff[len_t_eff]\n",
    "xsig = xsig[len_t_eff]\n",
    "LV = LV[len_t_eff]\n",
    "ysig = ysig[len_t_eff]\n",
    "delta = delta[len_t_eff]\n",
    "delta = delta.astype(int)\n",
    "\n",
    "delta = delta == 0\n",
    "LV=np.log10(LV)"
   ]
  },
  {
   "cell_type": "code",
   "execution_count": 2,
   "metadata": {
    "collapsed": false
   },
   "outputs": [
    {
     "name": "stdout",
     "output_type": "stream",
     "text": [
      "-877.584220738\n"
     ]
    }
   ],
   "source": [
    "m=0.000385\n",
    "b=12.15\n",
    "\n",
    "q=0\n",
    "c=15\n",
    "\n",
    "x = t_eff\n",
    "\n",
    "mew = m*x + b\n",
    "sigma = q*x + c\n",
    "\n",
    "lnLn=-0.5*(((LV - mew)**2) / (ysig**2 + sigma**2)) - 0.5*np.log10(ysig**2 + sigma**2)\n",
    "\n",
    "lnLikelihood=np.ndarray.sum(lnLn)\n",
    "\n",
    "print lnLikelihood"
   ]
  },
  {
   "cell_type": "code",
   "execution_count": null,
   "metadata": {
    "collapsed": false
   },
   "outputs": [],
   "source": []
  },
  {
   "cell_type": "code",
   "execution_count": null,
   "metadata": {
    "collapsed": true
   },
   "outputs": [],
   "source": []
  }
 ],
 "metadata": {
  "kernelspec": {
   "display_name": "Python 2",
   "language": "python",
   "name": "python2"
  },
  "language_info": {
   "codemirror_mode": {
    "name": "ipython",
    "version": 2
   },
   "file_extension": ".py",
   "mimetype": "text/x-python",
   "name": "python",
   "nbconvert_exporter": "python",
   "pygments_lexer": "ipython2",
   "version": "2.7.11"
  }
 },
 "nbformat": 4,
 "nbformat_minor": 0
}
