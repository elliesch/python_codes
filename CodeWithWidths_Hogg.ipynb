{
 "cells": [
  {
   "cell_type": "code",
   "execution_count": 1,
   "metadata": {
    "collapsed": true
   },
   "outputs": [],
   "source": [
    "#############################################################################################################\n",
    "\n",
    "import matplotlib.pyplot as plt\n",
    "%matplotlib inline\n",
    "import numpy as np\n",
    "import math\n",
    "import linmix\n",
    "\n",
    "#1. This section imports the necessary columns from the csv file into arrays\n",
    "csv = np.genfromtxt ('RadioDetectionTable_Limits.csv', delimiter=\",\")\n",
    "t_eff = csv[1:,13]\n",
    "xsig = csv[1:,14]\n",
    "LV = csv[1:,7]\n",
    "ysig = csv[1:,8]\n",
    "delta = csv[1:,10]\n",
    "\n",
    "\n",
    "#Creating arrays that will specify only the sample values that have an effective temperature\n",
    "\n",
    "len_t_eff = t_eff == 0\n",
    "len_t_eff = np.logical_not(len_t_eff)\n",
    "\n",
    "t_eff = t_eff[len_t_eff]\n",
    "xsig = xsig[len_t_eff]\n",
    "LV = LV[len_t_eff]\n",
    "ysig = ysig[len_t_eff]\n",
    "delta = delta[len_t_eff]\n",
    "delta = delta.astype(int)\n",
    "\n",
    "delta = delta == 0\n",
    "LV=np.log10(LV)"
   ]
  },
  {
   "cell_type": "code",
   "execution_count": null,
   "metadata": {
    "collapsed": false
   },
   "outputs": [],
   "source": []
  },
  {
   "cell_type": "code",
   "execution_count": 28,
   "metadata": {
    "collapsed": false
   },
   "outputs": [
    {
     "name": "stdout",
     "output_type": "stream",
     "text": [
      "-890.160673426\n"
     ]
    }
   ],
   "source": [
    "#Here's the Hogg equation:\n",
    "\n",
    "m=0.000385\n",
    "b=12.15\n",
    "\n",
    "#q=np.arange(0.000385, 0.1, 0.0012148) #np.arange(first value, end value, interval size) for floats\n",
    "q=np.linspace(0.000385, 0.1, 82) \n",
    "c=np.linspace(13.3, 15, 82)\n",
    "\n",
    "x = t_eff\n",
    "\n",
    "mew = m*x + b\n",
    "sigma = q*x + c\n",
    "\n",
    "lnLn=-0.5*(((LV - mew)**2) / (ysig**2 + sigma**2)) - 0.5*np.log10(ysig**2 + sigma**2)\n",
    "\n",
    "lnLikelihood=np.ndarray.sum(lnLn)\n",
    "\n",
    "print lnLikelihood"
   ]
  },
  {
   "cell_type": "code",
   "execution_count": 29,
   "metadata": {
    "collapsed": false
   },
   "outputs": [
    {
     "name": "stdout",
     "output_type": "stream",
     "text": [
      "[ 0.000385    0.00161481  0.00284463  0.00407444  0.00530426  0.00653407\n",
      "  0.00776389  0.0089937   0.01022352  0.01145333  0.01268315  0.01391296\n",
      "  0.01514278  0.01637259  0.01760241  0.01883222  0.02006204  0.02129185\n",
      "  0.02252167  0.02375148  0.0249813   0.02621111  0.02744093  0.02867074\n",
      "  0.02990056  0.03113037  0.03236019  0.03359     0.03481981  0.03604963\n",
      "  0.03727944  0.03850926  0.03973907  0.04096889  0.0421987   0.04342852\n",
      "  0.04465833  0.04588815  0.04711796  0.04834778  0.04957759  0.05080741\n",
      "  0.05203722  0.05326704  0.05449685  0.05572667  0.05695648  0.0581863\n",
      "  0.05941611  0.06064593  0.06187574  0.06310556  0.06433537  0.06556519\n",
      "  0.066795    0.06802481  0.06925463  0.07048444  0.07171426  0.07294407\n",
      "  0.07417389  0.0754037   0.07663352  0.07786333  0.07909315  0.08032296\n",
      "  0.08155278  0.08278259  0.08401241  0.08524222  0.08647204  0.08770185\n",
      "  0.08893167  0.09016148  0.0913913   0.09262111  0.09385093  0.09508074\n",
      "  0.09631056  0.09754037  0.09877019  0.1       ]\n"
     ]
    }
   ],
   "source": [
    "print q"
   ]
  },
  {
   "cell_type": "code",
   "execution_count": null,
   "metadata": {
    "collapsed": true
   },
   "outputs": [],
   "source": []
  }
 ],
 "metadata": {
  "kernelspec": {
   "display_name": "Python 2",
   "language": "python",
   "name": "python2"
  },
  "language_info": {
   "codemirror_mode": {
    "name": "ipython",
    "version": 2
   },
   "file_extension": ".py",
   "mimetype": "text/x-python",
   "name": "python",
   "nbconvert_exporter": "python",
   "pygments_lexer": "ipython2",
   "version": "2.7.11"
  }
 },
 "nbformat": 4,
 "nbformat_minor": 0
}
